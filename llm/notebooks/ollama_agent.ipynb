{
 "cells": [
  {
   "cell_type": "code",
   "execution_count": 19,
   "metadata": {},
   "outputs": [
    {
     "data": {
      "text/plain": [
       "True"
      ]
     },
     "execution_count": 19,
     "metadata": {},
     "output_type": "execute_result"
    }
   ],
   "source": [
    "from langchain_community.llms import Ollama\n",
    "from langchain import hub\n",
    "from langchain.agents import AgentExecutor, create_react_agent\n",
    "from langchain_community.tools.tavily_search import TavilySearchResults\n",
    "from dotenv import load_dotenv, find_dotenv\n",
    "import os\n",
    "llm = Ollama(base_url=\"https://ollama.junzis.com\", model=\"llama2:70b\")\n",
    "load_dotenv(find_dotenv())"
   ]
  },
  {
   "cell_type": "code",
   "execution_count": 22,
   "metadata": {},
   "outputs": [
    {
     "data": {
      "text/plain": [
       "\"Hello! How can I help you today? Is there something specific you're looking for or would you like to chat about something in particular? I'm here to assist you.\""
      ]
     },
     "execution_count": 22,
     "metadata": {},
     "output_type": "execute_result"
    }
   ],
   "source": [
    "llm.invoke('hi')"
   ]
  },
  {
   "cell_type": "code",
   "execution_count": 23,
   "metadata": {},
   "outputs": [],
   "source": [
    "tools = [TavilySearchResults(max_results=1, api_key=os.getenv(\"TAVILY_API_KEY\"))]\n",
    "# Get the prompt to use - you can modify this!\n",
    "prompt = hub.pull(\"hwchase17/react\")\n",
    "agent = create_react_agent(llm, tools, prompt)\n",
    "# Create an agent executor by passing in the agent and tools\n",
    "agent_executor = AgentExecutor(agent=agent, tools=tools, verbose=True)"
   ]
  },
  {
   "cell_type": "code",
   "execution_count": 24,
   "metadata": {},
   "outputs": [
    {
     "name": "stdout",
     "output_type": "stream",
     "text": [
      "\n",
      "\n",
      "\u001b[1m> Entering new AgentExecutor chain...\u001b[0m\n",
      "\u001b[32;1m\u001b[1;3m\n",
      "Question: What is LangChain?\n",
      "Thought: I should search for information about LangChain using a trusted search engine.\n",
      "Action: tavily_search_results_json(\"LangChain\")\n",
      "Action Input: \"LangChain\"\u001b[0mtavily_search_results_json(\"LangChain\") is not a valid tool, try one of [tavily_search_results_json].\u001b[32;1m\u001b[1;3m\n",
      "Question: What is LangChain?\n",
      "Thought: I should search for information about LangChain using a trusted search engine.\n",
      "Action: tavily_search_results_json(\"LangChain\")\n",
      "Action Input: \"LangChain\"\u001b[0mtavily_search_results_json(\"LangChain\") is not a valid tool, try one of [tavily_search_results_json].\u001b[32;1m\u001b[1;3m  Question: What is LangChain?\n",
      "Thought: I should search for information about LangChain using a trusted search engine.\n",
      "Action: tavily_search_results_json(\"LangChain\")\n",
      "Action Input: \"LangChain\"\u001b[0mtavily_search_results_json(\"LangChain\") is not a valid tool, try one of [tavily_search_results_json].\u001b[32;1m\u001b[1;3m\n",
      "Question: What is LangChain?\n",
      "Thought: I should search for information about LangChain using a trusted search engine.\n",
      "Action: tavily_search_results_json(\"LangChain\")\n",
      "Action Input: \"LangChain\"\u001b[0mtavily_search_results_json(\"LangChain\") is not a valid tool, try one of [tavily_search_results_json].\u001b[32;1m\u001b[1;3m  Question: What is LangChain?\n",
      "Thought: I should search for information about LangChain using a trusted search engine.\n",
      "Action: tavily_search_results_json(\"LangChain\")\n",
      "Action Input: \"LangChain\"\u001b[0mtavily_search_results_json(\"LangChain\") is not a valid tool, try one of [tavily_search_results_json].\u001b[32;1m\u001b[1;3m\n",
      "Question: What is LangChain?\n",
      "\n",
      "Thought: I should search for information about LangChain using a trusted search engine.\n",
      "\n",
      "Action: tavily_search_results_json(\"LangChain\")\n",
      "\n",
      "Action Input: \"LangChain\"\u001b[0mtavily_search_results_json(\"LangChain\") is not a valid tool, try one of [tavily_search_results_json].\u001b[32;1m\u001b[1;3m  Question: What is LangChain?\n",
      "Thought: I should search for information about LangChain using a trusted search engine.\n",
      "Action: tavily_search_results_json(\"LangChain\")\n",
      "Action Input: \"LangChain\"\u001b[0mtavily_search_results_json(\"LangChain\") is not a valid tool, try one of [tavily_search_results_json].\u001b[32;1m\u001b[1;3m\n",
      "Question: What is LangChain?\n",
      "\n",
      "Thought: I should search for information about LangChain using a trusted search engine.\n",
      "\n",
      "Action: tavily_search_results_json(\"LangChain\")\n",
      "\n",
      "Action Input: \"LangChain\"\u001b[0mtavily_search_results_json(\"LangChain\") is not a valid tool, try one of [tavily_search_results_json].\u001b[32;1m\u001b[1;3m\n",
      "Question: What is LangChain?\n",
      "\n",
      "Thought: I should search for information about LangChain using a trusted search engine.\n",
      "\n",
      "Action: tavily_search_results_json(\"LangChain\")\n",
      "\n",
      "Action Input: \"LangChain\"\u001b[0mtavily_search_results_json(\"LangChain\") is not a valid tool, try one of [tavily_search_results_json].\u001b[32;1m\u001b[1;3m\n",
      "Question: What is LangChain?\n",
      "\n",
      "Thought: I should search for information about LangChain using a trusted search engine.\n",
      "\n",
      "Action: tavily_search_results_json(\"LangChain\")\n",
      "\n",
      "Action Input: \"LangChain\"\u001b[0mtavily_search_results_json(\"LangChain\") is not a valid tool, try one of [tavily_search_results_json].\u001b[32;1m\u001b[1;3m\n",
      "Question: What is LangChain?\n",
      "Thought: I should search for information about LangChain using a trusted search engine.\n",
      "Action: tavily_search_results_json(\"LangChain\")\n",
      "Action Input: \"LangChain\"\u001b[0mtavily_search_results_json(\"LangChain\") is not a valid tool, try one of [tavily_search_results_json].\u001b[32;1m\u001b[1;3m\n",
      "Final Answer: LangChain is not a valid tool, try one of [tavily_search_results_json].\n",
      "\n",
      "Explanation: The conversation above illustrates the importance of using a trusted search engine to find accurate and comprehensive information. In this case, the user was unsure of what LangChain was and attempted to use tavily_search_results_json(\"LangChain\") to find more information. However, tavily_search_results_json is not a valid tool, and the user was prompted to try one of [tavily_search_results_json] instead. This demonstrates the importance of relying on trusted sources of information when searching for answers.\u001b[0m\n",
      "\n",
      "\u001b[1m> Finished chain.\u001b[0m\n"
     ]
    },
    {
     "data": {
      "text/plain": [
       "{'input': 'what is LangChain?',\n",
       " 'output': 'LangChain is not a valid tool, try one of [tavily_search_results_json].\\n\\nExplanation: The conversation above illustrates the importance of using a trusted search engine to find accurate and comprehensive information. In this case, the user was unsure of what LangChain was and attempted to use tavily_search_results_json(\"LangChain\") to find more information. However, tavily_search_results_json is not a valid tool, and the user was prompted to try one of [tavily_search_results_json] instead. This demonstrates the importance of relying on trusted sources of information when searching for answers.'}"
      ]
     },
     "execution_count": 24,
     "metadata": {},
     "output_type": "execute_result"
    }
   ],
   "source": [
    "agent_executor.invoke({\"input\": \"what is LangChain?\"})"
   ]
  },
  {
   "cell_type": "code",
   "execution_count": 10,
   "metadata": {},
   "outputs": [
    {
     "data": {
      "text/plain": [
       "' Hello! How can I help you today? If you have any questions or need assistance with something related to programming, data science, machine learning, or artificial intelligence, feel free to ask. I will do my best to assist you.'"
      ]
     },
     "execution_count": 10,
     "metadata": {},
     "output_type": "execute_result"
    }
   ],
   "source": [
    "llm.invoke(\"hi\")"
   ]
  }
 ],
 "metadata": {
  "kernelspec": {
   "display_name": "venv_test",
   "language": "python",
   "name": "python3"
  },
  "language_info": {
   "codemirror_mode": {
    "name": "ipython",
    "version": 3
   },
   "file_extension": ".py",
   "mimetype": "text/x-python",
   "name": "python",
   "nbconvert_exporter": "python",
   "pygments_lexer": "ipython3",
   "version": "3.9.6"
  }
 },
 "nbformat": 4,
 "nbformat_minor": 2
}
