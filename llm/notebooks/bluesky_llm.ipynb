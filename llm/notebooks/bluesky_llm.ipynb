{
 "cells": [
  {
   "cell_type": "code",
   "execution_count": 321,
   "metadata": {},
   "outputs": [],
   "source": [
    "import sys\n",
    "sys.path.append('../../bluesky')  # Adjust the path as necessary\n",
    "\n",
    "# Now you can import bluesky modules"
   ]
  },
  {
   "cell_type": "code",
   "execution_count": 322,
   "metadata": {},
   "outputs": [],
   "source": [
    "import bluesky\n",
    "from bluesky.network.client import Client\n",
    "import os\n",
    "\n",
    "\n",
    "from bluesky.network.client import Client\n",
    "\n",
    "\n",
    "import google.generativeai as genai\n",
    "\n",
    "\n",
    "from dotenv import load_dotenv, find_dotenv\n",
    "\n",
    "\n",
    "import sys\n",
    "\n",
    "\n",
    "from contextlib import contextmanager\n",
    "\n",
    "\n",
    "from io import StringIO\n",
    "\n",
    "\n",
    "from openai import OpenAI\n",
    "from langchain_openai import ChatOpenAI\n",
    "from langchain.agents import tool\n",
    "from langchain_core.prompts import ChatPromptTemplate, MessagesPlaceholder"
   ]
  },
  {
   "cell_type": "code",
   "execution_count": 323,
   "metadata": {},
   "outputs": [
    {
     "data": {
      "text/plain": [
       "True"
      ]
     },
     "execution_count": 323,
     "metadata": {},
     "output_type": "execute_result"
    }
   ],
   "source": [
    "# Load the .env file\n",
    "load_dotenv(find_dotenv())"
   ]
  },
  {
   "cell_type": "code",
   "execution_count": 324,
   "metadata": {},
   "outputs": [],
   "source": [
    "# capture output information from the bluesky client and return it as a string\n",
    "@contextmanager\n",
    "def capture_stdout():\n",
    "    new_stdout = StringIO()\n",
    "    old_stdout = sys.stdout\n",
    "    sys.stdout = new_stdout\n",
    "    try:\n",
    "        yield new_stdout\n",
    "    finally:\n",
    "        sys.stdout = old_stdout\n",
    "\n",
    "\n",
    "def update_until_complete(client):\n",
    "    complete_output = \"\"\n",
    "    while True:\n",
    "        with capture_stdout() as captured:\n",
    "            client.update()\n",
    "        new_output = captured.getvalue()\n",
    "        if not new_output.strip():\n",
    "            # No more new output, break the loop\n",
    "            break\n",
    "        complete_output += new_output\n",
    "    client.update()\n",
    "    return complete_output"
   ]
  },
  {
   "cell_type": "code",
   "execution_count": 325,
   "metadata": {},
   "outputs": [
    {
     "name": "stdout",
     "output_type": "stream",
     "text": [
      "Client b'\\x00\\xac\\x80\\xc0\\xe6' connected to host b'\\x00\\xcd\\xb7)%'\n",
      "Client active node changed.\n"
     ]
    }
   ],
   "source": [
    "# connect to client\n",
    "client = Client()\n",
    "client.connect(\"127.0.0.1\", 11000, 11001)\n",
    "client.update()"
   ]
  },
  {
   "cell_type": "code",
   "execution_count": 326,
   "metadata": {},
   "outputs": [],
   "source": [
    "client.update()"
   ]
  },
  {
   "cell_type": "code",
   "execution_count": 327,
   "metadata": {},
   "outputs": [],
   "source": [
    "# # example commands\n",
    "# command = 'CRE BZB994 A320 -15.101549,-14.504519 48 FL150 150'\n",
    "# command = 'GETACIDS'\n",
    "# #command = 'PAN BZB994'\n",
    "# # sending command to the client. can be a plugin command or a pre-defined command\n",
    "# client.send_event(b'STACK', command)"
   ]
  },
  {
   "cell_type": "code",
   "execution_count": 328,
   "metadata": {},
   "outputs": [
    {
     "name": "stdout",
     "output_type": "stream",
     "text": [
      "All captured output:\n",
      " \n",
      "-------------------\n"
     ]
    }
   ],
   "source": [
    "# sim_output = update_until_complete(client)\n",
    "# print(\"All captured output:\\n\", sim_output)\n",
    "# print('-------------------')"
   ]
  },
  {
   "cell_type": "code",
   "execution_count": 329,
   "metadata": {},
   "outputs": [],
   "source": [
    "client.update()"
   ]
  },
  {
   "cell_type": "code",
   "execution_count": 330,
   "metadata": {},
   "outputs": [],
   "source": [
    "# initialize the GPT-3.5 model\n",
    "llm = ChatOpenAI(model=\"gpt-3.5-turbo\", temperature=0)"
   ]
  },
  {
   "cell_type": "code",
   "execution_count": 331,
   "metadata": {},
   "outputs": [],
   "source": [
    "\n",
    "@tool\n",
    "def get_all_aircraft_info(command: str) -> str:\n",
    "    \"\"\"Returns each aircraft information. Use command GETACIDS to get all aircrafts.\"\"\"\n",
    "    client.send_event(b'STACK', command)\n",
    "    sim_output = update_until_complete(client)\n",
    "    return sim_output\n"
   ]
  },
  {
   "cell_type": "code",
   "execution_count": 332,
   "metadata": {},
   "outputs": [],
   "source": [
    "import time\n",
    "@tool\n",
    "def send_command_to_simulator(command: str, args: list = None) -> str:\n",
    "\n",
    "    \"\"\"Sends a command with optional arguments to the simulator and returns the output.\n",
    "    Parameters:\n",
    "    - command (str): The command to send to the simulator.\n",
    "\n",
    "    - args (list, optional): A list of arguments to include with the command. Defaults to None.\n",
    "\n",
    "    Returns:\n",
    "\n",
    "    str: The output from the simulator.\n",
    "    \"\"\"\n",
    "    \n",
    "\n",
    "    # Ensure args is a list if not provided\n",
    "\n",
    "    if args is None:\n",
    "\n",
    "        args = []\n",
    "\n",
    "\n",
    "    # Convert the command and its arguments into a byte string to be sent\n",
    "\n",
    "    # Note: Assuming that arguments are separated by spaces in the command string\n",
    "\n",
    "    command_with_args = ' '.join([command] + args)\n",
    "\n",
    "\n",
    "    # Send the command to the simulator\n",
    "    #client.update()\n",
    "    client.send_event(b'STACK', command_with_args)\n",
    "    \n",
    "    # wait 1 second\n",
    "    time.sleep(1)\n",
    "\n",
    "    # Wait for and retrieve the output from the simulator\n",
    "\n",
    "    sim_output = update_until_complete(client)\n",
    "\n",
    "    return sim_output"
   ]
  },
  {
   "cell_type": "code",
   "execution_count": 333,
   "metadata": {},
   "outputs": [],
   "source": [
    "\n",
    "tools = [send_command_to_simulator]"
   ]
  },
  {
   "cell_type": "code",
   "execution_count": 334,
   "metadata": {},
   "outputs": [],
   "source": [
    "# Create a chat prompt template\n",
    "prompt = ChatPromptTemplate.from_messages(\n",
    "    [\n",
    "        (\n",
    "            \"system\",\n",
    "            \"You are very powerful assistant, that can also use tools to answer questions\",\n",
    "        ),\n",
    "        (\"user\", \"{input}\"),\n",
    "        MessagesPlaceholder(variable_name=\"agent_scratchpad\"),\n",
    "    ]\n",
    ")"
   ]
  },
  {
   "cell_type": "code",
   "execution_count": 335,
   "metadata": {},
   "outputs": [],
   "source": [
    "llm_with_tools = llm.bind_tools(tools)"
   ]
  },
  {
   "cell_type": "code",
   "execution_count": 336,
   "metadata": {},
   "outputs": [],
   "source": [
    "from langchain.agents.format_scratchpad.openai_tools import (\n",
    "    format_to_openai_tool_messages,\n",
    ")\n",
    "from langchain.agents.output_parsers.openai_tools import OpenAIToolsAgentOutputParser\n",
    "\n",
    "agent = (\n",
    "    {\n",
    "        \"input\": lambda x: x[\"input\"],\n",
    "        \"agent_scratchpad\": lambda x: format_to_openai_tool_messages(\n",
    "            x[\"intermediate_steps\"]\n",
    "        ),\n",
    "    }\n",
    "    | prompt\n",
    "    | llm_with_tools\n",
    "    | OpenAIToolsAgentOutputParser()\n",
    ")"
   ]
  },
  {
   "cell_type": "code",
   "execution_count": 337,
   "metadata": {},
   "outputs": [],
   "source": [
    "from langchain.agents import AgentExecutor\n",
    "\n",
    "agent_executor = AgentExecutor(agent=agent, tools=tools, verbose=True)"
   ]
  },
  {
   "cell_type": "code",
   "execution_count": 366,
   "metadata": {},
   "outputs": [
    {
     "name": "stdout",
     "output_type": "stream",
     "text": [
      "\n",
      "\n",
      "\u001b[1m> Entering new AgentExecutor chain...\u001b[0m\n",
      "\u001b[32;1m\u001b[1;3m\n",
      "Invoking: `send_command_to_simulator` with `{'command': 'GETACIDS'}`\n",
      "\n",
      "\n",
      "\u001b[0m\u001b[36;1m\u001b[1;3mBZB991\n",
      "Aircraft ids: ['BZB999', 'BZB991', 'BZB992', 'BZB993', 'BZB994', 'A4', 'A5', 'A6', 'A7', 'A8', 'A9', 'A320FL150', 'A320FL150NEW', 'A320_A9', 'A10']\n",
      "Info on BZB999 A320 index = 0\n",
      "Pos: S14'16'57.0\"  W013'33'51.0\"\n",
      "Hdg: 048   Trk: 048\n",
      "Alt: 15000 ft  V/S: 0 fpm\n",
      "CAS/TAS/GS: 150/188/188 kts   M: 0.300\n",
      "\n",
      "Info on BZB991 A320 index = 1\n",
      "Pos: S14'19'10.0\"  W013'36'23.0\"\n",
      "Hdg: 048   Trk: 048\n",
      "Alt: 15000 ft  V/S: 0 fpm\n",
      "CAS/TAS/GS: 150/188/188 kts   M: 0.300\n",
      "\n",
      "Info on BZB992 A320 index = 2\n",
      "Pos: S14'20'34.0\"  W013'38'0.0\"\n",
      "Hdg: 048   Trk: 048\n",
      "Alt: 15000 ft  V/S: 0 fpm\n",
      "CAS/TAS/GS: 150/188/188 kts   M: 0.300\n",
      "\n",
      "Info on BZB993 A320 index = 3\n",
      "Pos: S14'20'59.0\"  W013'38'28.0\"\n",
      "Hdg: 048   Trk: 048\n",
      "Alt: 15000 ft  V/S: 0 fpm\n",
      "CAS/TAS/GS: 150/188/188 kts   M: 0.300\n",
      "\n",
      "Info on BZB994 A320 index = 4\n",
      "Pos: S14'22'29.0\"  W013'40'12.0\"\n",
      "Hdg: 048   Trk: 048\n",
      "Alt: 15000 ft  V/S: 0 fpm\n",
      "CAS/TAS/GS: 150/188/188 kts   M: 0.300\n",
      "\n",
      "Info on A4 A320 index = 5\n",
      "Pos: S14'26'33.0\"  W013'44'51.0\"\n",
      "Hdg: 048   Trk: 048\n",
      "Alt: 15000 ft  V/S: 0 fpm\n",
      "CAS/TAS/GS: 150/188/188 kts   M: 0.300\n",
      "\n",
      "Info on A5 A320 index = 6\n",
      "Pos: S14'30'1.0\"  W013'48'50.0\"\n",
      "Hdg: 048   Trk: 048\n",
      "Alt: 15000 ft  V/S: 0 fpm\n",
      "CAS/TAS/GS: 150/188/188 kts   M: 0.300\n",
      "\n",
      "Info on A6 A320 index = 7\n",
      "Pos: S14'33'35.0\"  W013'52'55.0\"\n",
      "Hdg: 048   Trk: 048\n",
      "Alt: 15000 ft  V/S: 0 fpm\n",
      "CAS/TAS/GS: 150/188/188 kts   M: 0.300\n",
      "\n",
      "Info on A7 A320 index = 8\n",
      "Pos: S14'35'17.0\"  W013'54'52.0\"\n",
      "Hdg: 048   Trk: 048\n",
      "Alt: 15000 ft  V/S: 0 fpm\n",
      "CAS/TAS/GS: 150/188/188 kts   M: 0.300\n",
      "\n",
      "Info on A8 A320 index = 9\n",
      "Pos: S14'37'51.0\"  W013'57'49.0\"\n",
      "Hdg: 048   Trk: 048\n",
      "Alt: 15000 ft  V/S: 0 fpm\n",
      "CAS/TAS/GS: 150/188/188 kts   M: 0.300\n",
      "\n",
      "Info on A9 A320 index = 10\n",
      "Pos: S14'40'56.0\"  W014'01'22.0\"\n",
      "Hdg: 048   Trk: 048\n",
      "Alt: 15000 ft  V/S: 0 fpm\n",
      "CAS/TAS/GS: 150/188/188 kts   M: 0.300\n",
      "\n",
      "Info on A320FL150 A320 index = 11\n",
      "Pos: S14'50'19.0\"  W014'12'8.0\"\n",
      "Hdg: 048   Trk: 048\n",
      "Alt: 15000 ft  V/S: 0 fpm\n",
      "CAS/TAS/GS: 150/188/188 kts   M: 0.300\n",
      "\n",
      "Info on A320FL150NEW A320 index = 12\n",
      "Pos: S14'50'22.0\"  W014'12'12.0\"\n",
      "Hdg: 048   Trk: 048\n",
      "Alt: 15000 ft  V/S: 0 fpm\n",
      "CAS/TAS/GS: 150/188/188 kts   M: 0.300\n",
      "\n",
      "Info on A320_A9 A320 index = 13\n",
      "Pos: S14'54'37.0\"  W014'17'5.0\"\n",
      "Hdg: 048   Trk: 048\n",
      "Alt: 15000 ft  V/S: 0 fpm\n",
      "CAS/TAS/GS: 150/188/188 kts   M: 0.300\n",
      "\n",
      "Info on A10 A320 index = 14\n",
      "Pos: S14'55'55.0\"  W014'18'34.0\"\n",
      "Hdg: 048   Trk: 048\n",
      "Alt: 15000 ft  V/S: 0 fpm\n",
      "CAS/TAS/GS: 150/188/188 kts   M: 0.300\n",
      "\n",
      "\u001b[0m\u001b[32;1m\u001b[1;3mThe aircrafts in the simulator are:\n",
      "1. BZB999 (A320)\n",
      "2. BZB991 (A320)\n",
      "3. BZB992 (A320)\n",
      "4. BZB993 (A320)\n",
      "5. BZB994 (A320)\n",
      "6. A4 (A320)\n",
      "7. A5 (A320)\n",
      "8. A6 (A320)\n",
      "9. A7 (A320)\n",
      "10. A8 (A320)\n",
      "11. A9 (A320)\n",
      "12. A320FL150 (A320)\n",
      "13. A320FL150NEW (A320)\n",
      "14. A320_A9 (A320)\n",
      "15. A10 (A320)\u001b[0m\n",
      "\n",
      "\u001b[1m> Finished chain.\u001b[0m\n"
     ]
    }
   ],
   "source": [
    "input1 = \"Create an airraft for me. it should be a A320 with the A10 callsign, at -15.101549,-14.504519, at 48 heading, flying with the speed of 150 at flight level150. Here are the command instructions: CRE acid,type,lat,lon,hdg,alt,spd. Altitude can be given as altitude [ft] or flight level [-]. In order to give the altitude as flight level, use the letters FL\"\n",
    "\n",
    "input2 = \"Get all aircrafts in the simulator. Only use GETACIDS command with no arguments.\"\n",
    "\n",
    "out_lst = list(agent_executor.stream({\"input\": input2}))"
   ]
  },
  {
   "cell_type": "code",
   "execution_count": 367,
   "metadata": {},
   "outputs": [
    {
     "data": {
      "text/plain": [
       "[{'actions': [OpenAIToolAgentAction(tool='send_command_to_simulator', tool_input={'command': 'GETACIDS'}, log=\"\\nInvoking: `send_command_to_simulator` with `{'command': 'GETACIDS'}`\\n\\n\\n\", message_log=[AIMessage(content='', additional_kwargs={'tool_calls': [{'id': 'call_2pWgmZp5RP1mvXupdzH8AjHB', 'function': {'arguments': '{\"command\":\"GETACIDS\"}', 'name': 'send_command_to_simulator'}, 'type': 'function'}]})], tool_call_id='call_2pWgmZp5RP1mvXupdzH8AjHB')],\n",
       "  'messages': [AIMessage(content='', additional_kwargs={'tool_calls': [{'id': 'call_2pWgmZp5RP1mvXupdzH8AjHB', 'function': {'arguments': '{\"command\":\"GETACIDS\"}', 'name': 'send_command_to_simulator'}, 'type': 'function'}]})]},\n",
       " {'steps': [AgentStep(action=OpenAIToolAgentAction(tool='send_command_to_simulator', tool_input={'command': 'GETACIDS'}, log=\"\\nInvoking: `send_command_to_simulator` with `{'command': 'GETACIDS'}`\\n\\n\\n\", message_log=[AIMessage(content='', additional_kwargs={'tool_calls': [{'id': 'call_2pWgmZp5RP1mvXupdzH8AjHB', 'function': {'arguments': '{\"command\":\"GETACIDS\"}', 'name': 'send_command_to_simulator'}, 'type': 'function'}]})], tool_call_id='call_2pWgmZp5RP1mvXupdzH8AjHB'), observation='BZB991\\nAircraft ids: [\\'BZB999\\', \\'BZB991\\', \\'BZB992\\', \\'BZB993\\', \\'BZB994\\', \\'A4\\', \\'A5\\', \\'A6\\', \\'A7\\', \\'A8\\', \\'A9\\', \\'A320FL150\\', \\'A320FL150NEW\\', \\'A320_A9\\', \\'A10\\']\\nInfo on BZB999 A320 index = 0\\nPos: S14\\'16\\'57.0\"  W013\\'33\\'51.0\"\\nHdg: 048   Trk: 048\\nAlt: 15000 ft  V/S: 0 fpm\\nCAS/TAS/GS: 150/188/188 kts   M: 0.300\\n\\nInfo on BZB991 A320 index = 1\\nPos: S14\\'19\\'10.0\"  W013\\'36\\'23.0\"\\nHdg: 048   Trk: 048\\nAlt: 15000 ft  V/S: 0 fpm\\nCAS/TAS/GS: 150/188/188 kts   M: 0.300\\n\\nInfo on BZB992 A320 index = 2\\nPos: S14\\'20\\'34.0\"  W013\\'38\\'0.0\"\\nHdg: 048   Trk: 048\\nAlt: 15000 ft  V/S: 0 fpm\\nCAS/TAS/GS: 150/188/188 kts   M: 0.300\\n\\nInfo on BZB993 A320 index = 3\\nPos: S14\\'20\\'59.0\"  W013\\'38\\'28.0\"\\nHdg: 048   Trk: 048\\nAlt: 15000 ft  V/S: 0 fpm\\nCAS/TAS/GS: 150/188/188 kts   M: 0.300\\n\\nInfo on BZB994 A320 index = 4\\nPos: S14\\'22\\'29.0\"  W013\\'40\\'12.0\"\\nHdg: 048   Trk: 048\\nAlt: 15000 ft  V/S: 0 fpm\\nCAS/TAS/GS: 150/188/188 kts   M: 0.300\\n\\nInfo on A4 A320 index = 5\\nPos: S14\\'26\\'33.0\"  W013\\'44\\'51.0\"\\nHdg: 048   Trk: 048\\nAlt: 15000 ft  V/S: 0 fpm\\nCAS/TAS/GS: 150/188/188 kts   M: 0.300\\n\\nInfo on A5 A320 index = 6\\nPos: S14\\'30\\'1.0\"  W013\\'48\\'50.0\"\\nHdg: 048   Trk: 048\\nAlt: 15000 ft  V/S: 0 fpm\\nCAS/TAS/GS: 150/188/188 kts   M: 0.300\\n\\nInfo on A6 A320 index = 7\\nPos: S14\\'33\\'35.0\"  W013\\'52\\'55.0\"\\nHdg: 048   Trk: 048\\nAlt: 15000 ft  V/S: 0 fpm\\nCAS/TAS/GS: 150/188/188 kts   M: 0.300\\n\\nInfo on A7 A320 index = 8\\nPos: S14\\'35\\'17.0\"  W013\\'54\\'52.0\"\\nHdg: 048   Trk: 048\\nAlt: 15000 ft  V/S: 0 fpm\\nCAS/TAS/GS: 150/188/188 kts   M: 0.300\\n\\nInfo on A8 A320 index = 9\\nPos: S14\\'37\\'51.0\"  W013\\'57\\'49.0\"\\nHdg: 048   Trk: 048\\nAlt: 15000 ft  V/S: 0 fpm\\nCAS/TAS/GS: 150/188/188 kts   M: 0.300\\n\\nInfo on A9 A320 index = 10\\nPos: S14\\'40\\'56.0\"  W014\\'01\\'22.0\"\\nHdg: 048   Trk: 048\\nAlt: 15000 ft  V/S: 0 fpm\\nCAS/TAS/GS: 150/188/188 kts   M: 0.300\\n\\nInfo on A320FL150 A320 index = 11\\nPos: S14\\'50\\'19.0\"  W014\\'12\\'8.0\"\\nHdg: 048   Trk: 048\\nAlt: 15000 ft  V/S: 0 fpm\\nCAS/TAS/GS: 150/188/188 kts   M: 0.300\\n\\nInfo on A320FL150NEW A320 index = 12\\nPos: S14\\'50\\'22.0\"  W014\\'12\\'12.0\"\\nHdg: 048   Trk: 048\\nAlt: 15000 ft  V/S: 0 fpm\\nCAS/TAS/GS: 150/188/188 kts   M: 0.300\\n\\nInfo on A320_A9 A320 index = 13\\nPos: S14\\'54\\'37.0\"  W014\\'17\\'5.0\"\\nHdg: 048   Trk: 048\\nAlt: 15000 ft  V/S: 0 fpm\\nCAS/TAS/GS: 150/188/188 kts   M: 0.300\\n\\nInfo on A10 A320 index = 14\\nPos: S14\\'55\\'55.0\"  W014\\'18\\'34.0\"\\nHdg: 048   Trk: 048\\nAlt: 15000 ft  V/S: 0 fpm\\nCAS/TAS/GS: 150/188/188 kts   M: 0.300\\n\\n')],\n",
       "  'messages': [FunctionMessage(content='BZB991\\nAircraft ids: [\\'BZB999\\', \\'BZB991\\', \\'BZB992\\', \\'BZB993\\', \\'BZB994\\', \\'A4\\', \\'A5\\', \\'A6\\', \\'A7\\', \\'A8\\', \\'A9\\', \\'A320FL150\\', \\'A320FL150NEW\\', \\'A320_A9\\', \\'A10\\']\\nInfo on BZB999 A320 index = 0\\nPos: S14\\'16\\'57.0\"  W013\\'33\\'51.0\"\\nHdg: 048   Trk: 048\\nAlt: 15000 ft  V/S: 0 fpm\\nCAS/TAS/GS: 150/188/188 kts   M: 0.300\\n\\nInfo on BZB991 A320 index = 1\\nPos: S14\\'19\\'10.0\"  W013\\'36\\'23.0\"\\nHdg: 048   Trk: 048\\nAlt: 15000 ft  V/S: 0 fpm\\nCAS/TAS/GS: 150/188/188 kts   M: 0.300\\n\\nInfo on BZB992 A320 index = 2\\nPos: S14\\'20\\'34.0\"  W013\\'38\\'0.0\"\\nHdg: 048   Trk: 048\\nAlt: 15000 ft  V/S: 0 fpm\\nCAS/TAS/GS: 150/188/188 kts   M: 0.300\\n\\nInfo on BZB993 A320 index = 3\\nPos: S14\\'20\\'59.0\"  W013\\'38\\'28.0\"\\nHdg: 048   Trk: 048\\nAlt: 15000 ft  V/S: 0 fpm\\nCAS/TAS/GS: 150/188/188 kts   M: 0.300\\n\\nInfo on BZB994 A320 index = 4\\nPos: S14\\'22\\'29.0\"  W013\\'40\\'12.0\"\\nHdg: 048   Trk: 048\\nAlt: 15000 ft  V/S: 0 fpm\\nCAS/TAS/GS: 150/188/188 kts   M: 0.300\\n\\nInfo on A4 A320 index = 5\\nPos: S14\\'26\\'33.0\"  W013\\'44\\'51.0\"\\nHdg: 048   Trk: 048\\nAlt: 15000 ft  V/S: 0 fpm\\nCAS/TAS/GS: 150/188/188 kts   M: 0.300\\n\\nInfo on A5 A320 index = 6\\nPos: S14\\'30\\'1.0\"  W013\\'48\\'50.0\"\\nHdg: 048   Trk: 048\\nAlt: 15000 ft  V/S: 0 fpm\\nCAS/TAS/GS: 150/188/188 kts   M: 0.300\\n\\nInfo on A6 A320 index = 7\\nPos: S14\\'33\\'35.0\"  W013\\'52\\'55.0\"\\nHdg: 048   Trk: 048\\nAlt: 15000 ft  V/S: 0 fpm\\nCAS/TAS/GS: 150/188/188 kts   M: 0.300\\n\\nInfo on A7 A320 index = 8\\nPos: S14\\'35\\'17.0\"  W013\\'54\\'52.0\"\\nHdg: 048   Trk: 048\\nAlt: 15000 ft  V/S: 0 fpm\\nCAS/TAS/GS: 150/188/188 kts   M: 0.300\\n\\nInfo on A8 A320 index = 9\\nPos: S14\\'37\\'51.0\"  W013\\'57\\'49.0\"\\nHdg: 048   Trk: 048\\nAlt: 15000 ft  V/S: 0 fpm\\nCAS/TAS/GS: 150/188/188 kts   M: 0.300\\n\\nInfo on A9 A320 index = 10\\nPos: S14\\'40\\'56.0\"  W014\\'01\\'22.0\"\\nHdg: 048   Trk: 048\\nAlt: 15000 ft  V/S: 0 fpm\\nCAS/TAS/GS: 150/188/188 kts   M: 0.300\\n\\nInfo on A320FL150 A320 index = 11\\nPos: S14\\'50\\'19.0\"  W014\\'12\\'8.0\"\\nHdg: 048   Trk: 048\\nAlt: 15000 ft  V/S: 0 fpm\\nCAS/TAS/GS: 150/188/188 kts   M: 0.300\\n\\nInfo on A320FL150NEW A320 index = 12\\nPos: S14\\'50\\'22.0\"  W014\\'12\\'12.0\"\\nHdg: 048   Trk: 048\\nAlt: 15000 ft  V/S: 0 fpm\\nCAS/TAS/GS: 150/188/188 kts   M: 0.300\\n\\nInfo on A320_A9 A320 index = 13\\nPos: S14\\'54\\'37.0\"  W014\\'17\\'5.0\"\\nHdg: 048   Trk: 048\\nAlt: 15000 ft  V/S: 0 fpm\\nCAS/TAS/GS: 150/188/188 kts   M: 0.300\\n\\nInfo on A10 A320 index = 14\\nPos: S14\\'55\\'55.0\"  W014\\'18\\'34.0\"\\nHdg: 048   Trk: 048\\nAlt: 15000 ft  V/S: 0 fpm\\nCAS/TAS/GS: 150/188/188 kts   M: 0.300\\n\\n', name='send_command_to_simulator')]},\n",
       " {'output': 'The aircrafts in the simulator are:\\n1. BZB999 (A320)\\n2. BZB991 (A320)\\n3. BZB992 (A320)\\n4. BZB993 (A320)\\n5. BZB994 (A320)\\n6. A4 (A320)\\n7. A5 (A320)\\n8. A6 (A320)\\n9. A7 (A320)\\n10. A8 (A320)\\n11. A9 (A320)\\n12. A320FL150 (A320)\\n13. A320FL150NEW (A320)\\n14. A320_A9 (A320)\\n15. A10 (A320)',\n",
       "  'messages': [AIMessage(content='The aircrafts in the simulator are:\\n1. BZB999 (A320)\\n2. BZB991 (A320)\\n3. BZB992 (A320)\\n4. BZB993 (A320)\\n5. BZB994 (A320)\\n6. A4 (A320)\\n7. A5 (A320)\\n8. A6 (A320)\\n9. A7 (A320)\\n10. A8 (A320)\\n11. A9 (A320)\\n12. A320FL150 (A320)\\n13. A320FL150NEW (A320)\\n14. A320_A9 (A320)\\n15. A10 (A320)')]}]"
      ]
     },
     "execution_count": 367,
     "metadata": {},
     "output_type": "execute_result"
    }
   ],
   "source": [
    "out_lst"
   ]
  },
  {
   "cell_type": "code",
   "execution_count": null,
   "metadata": {},
   "outputs": [],
   "source": [
    "# TODO\n",
    "# 1. connect to a memory block so it will be able to remember the previous commands and responses\n",
    "# 2. create a vector database with commands and their descriptions (just like voyager did). Input is a prompt, output is top 5 commands\n",
    "# 3. Make a system that makes the agent write its own commands and test out the commands\n",
    "\n"
   ]
  },
  {
   "cell_type": "code",
   "execution_count": 48,
   "metadata": {},
   "outputs": [],
   "source": [
    "from langchain.prompts import MessagesPlaceholder\n",
    "\n",
    "MEMORY_KEY = \"chat_history\"\n",
    "prompt = ChatPromptTemplate.from_messages(\n",
    "    [\n",
    "        (\n",
    "            \"system\",\n",
    "            \"You are very powerful assistant\",\n",
    "        ),\n",
    "        MessagesPlaceholder(variable_name=MEMORY_KEY),\n",
    "        (\"user\", \"{input}\"),\n",
    "        MessagesPlaceholder(variable_name=\"agent_scratchpad\"),\n",
    "    ]\n",
    ")"
   ]
  },
  {
   "cell_type": "code",
   "execution_count": 77,
   "metadata": {},
   "outputs": [],
   "source": [
    "from langchain_core.messages import AIMessage, HumanMessage, ToolMessage, SystemMessage\n",
    "\n",
    "chat_history = []"
   ]
  },
  {
   "cell_type": "code",
   "execution_count": 72,
   "metadata": {},
   "outputs": [],
   "source": [
    "agent = (\n",
    "    {\n",
    "        \"input\": lambda x: x[\"input\"],\n",
    "        \"agent_scratchpad\": lambda x: format_to_openai_tool_messages(\n",
    "            x[\"intermediate_steps\"]\n",
    "        ),\n",
    "        \"chat_history\": lambda x: x[\"chat_history\"],\n",
    "    }\n",
    "    | prompt\n",
    "    | llm_with_tools\n",
    "    | OpenAIToolsAgentOutputParser()\n",
    ")\n",
    "agent_executor = AgentExecutor(agent=agent, tools=tools, verbose=True, return_intermediate_steps=True)"
   ]
  },
  {
   "cell_type": "code",
   "execution_count": 111,
   "metadata": {},
   "outputs": [
    {
     "name": "stdout",
     "output_type": "stream",
     "text": [
      "\n",
      "\n",
      "\u001b[1m> Entering new AgentExecutor chain...\u001b[0m\n",
      "\u001b[32;1m\u001b[1;3m\n",
      "Invoking: `get_all_aircraft_info` with `{'command': 'GETACIDS'}`\n",
      "\n",
      "\n",
      "\u001b[0m\u001b[36;1m\u001b[1;3mKL102\n",
      "Aircraft ids: ['KL101', 'KL102', 'KL103', 'BBB999']\n",
      "Info on KL101 B74F index = 0\n",
      "Pos: N49'04'7.0\"  E006'00'2.0\"\n",
      "Hdg: 180   Trk: 180\n",
      "Alt: 25000 ft  V/S: 0 fpm\n",
      "CAS/TAS/GS: 340/485/485 kts   M: 0.805\n",
      "\n",
      "Info on KL102 B74F index = 1\n",
      "Pos: N49'21'14.0\"  E004'21'9.0\"\n",
      "Hdg: 210   Trk: 210\n",
      "Alt: 25000 ft  V/S: 0 fpm\n",
      "CAS/TAS/GS: 340/485/485 kts   M: 0.805\n",
      "\n",
      "Info on KL103 B74F index = 2\n",
      "Pos: N50'06'37.0\"  E003'08'47.0\"\n",
      "Hdg: 239   Trk: 239\n",
      "Alt: 25000 ft  V/S: 0 fpm\n",
      "CAS/TAS/GS: 340/485/485 kts   M: 0.805\n",
      "\n",
      "Info on BBB999 A320 index = 3\n",
      "Pos: S14'26'56.0\"  W013'45'17.0\"\n",
      "Hdg: 048   Trk: 048\n",
      "Alt: 15000 ft  V/S: 0 fpm\n",
      "CAS/TAS/GS: 150/188/188 kts   M: 0.300\n",
      "\n",
      "\u001b[0m\u001b[32;1m\u001b[1;3mThere are currently 4 aircraft in the sky. The aircraft IDs are: KL101, KL102, KL103, and BBB999.\u001b[0m\n",
      "\n",
      "\u001b[1m> Finished chain.\u001b[0m\n"
     ]
    }
   ],
   "source": [
    "chat_history = []\n",
    "input1 = \"how many aircraft are there in the sky currently?\"\n",
    "\n",
    "result1 = agent_executor.invoke(\n",
    "\n",
    "    {\"input\": input1, \"chat_history\": chat_history})\n",
    "\n",
    "# chat history should have human message, output result from sim, and output result from openai"
   ]
  },
  {
   "cell_type": "code",
   "execution_count": 112,
   "metadata": {},
   "outputs": [],
   "source": [
    "intermediate_steps1 = result1['intermediate_steps'][0][1]\n",
    "\n",
    "chat_history.extend(\n",
    "    [\n",
    "\n",
    "        HumanMessage(content=input1),\n",
    "        AIMessage(content=result1[\"output\"]),\n",
    "        AIMessage(content=intermediate_steps1)\n",
    "    ]\n",
    "\n",
    ")\n",
    "# order here matters for some reason. If the order is changed, for the next question the tool will be invoke even though it is not needed"
   ]
  },
  {
   "cell_type": "code",
   "execution_count": 113,
   "metadata": {},
   "outputs": [
    {
     "data": {
      "text/plain": [
       "[HumanMessage(content='how many aircraft are there in the sky currently?'),\n",
       " AIMessage(content='There are currently 4 aircraft in the sky. The aircraft IDs are: KL101, KL102, KL103, and BBB999.'),\n",
       " AIMessage(content='KL102\\nAircraft ids: [\\'KL101\\', \\'KL102\\', \\'KL103\\', \\'BBB999\\']\\nInfo on KL101 B74F index = 0\\nPos: N49\\'04\\'7.0\"  E006\\'00\\'2.0\"\\nHdg: 180   Trk: 180\\nAlt: 25000 ft  V/S: 0 fpm\\nCAS/TAS/GS: 340/485/485 kts   M: 0.805\\n\\nInfo on KL102 B74F index = 1\\nPos: N49\\'21\\'14.0\"  E004\\'21\\'9.0\"\\nHdg: 210   Trk: 210\\nAlt: 25000 ft  V/S: 0 fpm\\nCAS/TAS/GS: 340/485/485 kts   M: 0.805\\n\\nInfo on KL103 B74F index = 2\\nPos: N50\\'06\\'37.0\"  E003\\'08\\'47.0\"\\nHdg: 239   Trk: 239\\nAlt: 25000 ft  V/S: 0 fpm\\nCAS/TAS/GS: 340/485/485 kts   M: 0.805\\n\\nInfo on BBB999 A320 index = 3\\nPos: S14\\'26\\'56.0\"  W013\\'45\\'17.0\"\\nHdg: 048   Trk: 048\\nAlt: 15000 ft  V/S: 0 fpm\\nCAS/TAS/GS: 150/188/188 kts   M: 0.300\\n\\n')]"
      ]
     },
     "execution_count": 113,
     "metadata": {},
     "output_type": "execute_result"
    }
   ],
   "source": [
    "chat_history"
   ]
  },
  {
   "cell_type": "code",
   "execution_count": 118,
   "metadata": {},
   "outputs": [
    {
     "name": "stdout",
     "output_type": "stream",
     "text": [
      "\n",
      "\n",
      "\u001b[1m> Entering new AgentExecutor chain...\u001b[0m\n"
     ]
    },
    {
     "name": "stdout",
     "output_type": "stream",
     "text": [
      "\u001b[32;1m\u001b[1;3mThe aircraft with the lowest altitude is BBB999. It is currently at an altitude of 15000 ft.\u001b[0m\n",
      "\n",
      "\u001b[1m> Finished chain.\u001b[0m\n"
     ]
    }
   ],
   "source": [
    "input2 = \"and which aircraft has the lowest altitude?\"\n",
    "result2 = agent_executor.invoke({\"input\": input2,\n",
    "                      \"chat_history\": chat_history})"
   ]
  },
  {
   "cell_type": "code",
   "execution_count": 121,
   "metadata": {},
   "outputs": [],
   "source": [
    "try:\n",
    "    intermediate_steps2 = result2['intermediate_steps'][0][1]\n",
    "except IndexError:\n",
    "    intermediate_steps2 = ''\n",
    "\n"
   ]
  },
  {
   "cell_type": "code",
   "execution_count": 122,
   "metadata": {},
   "outputs": [],
   "source": [
    "\n",
    "chat_history.extend(\n",
    "    [\n",
    "\n",
    "        HumanMessage(content=input2),\n",
    "        AIMessage(content=result2[\"output\"]),\n",
    "        AIMessage(content=intermediate_steps2)\n",
    "    ]\n",
    "\n",
    ")\n",
    "# order here matters for some reason. If the order is changed, for the next question the tool will be invoke even though it is not needed"
   ]
  },
  {
   "cell_type": "code",
   "execution_count": 123,
   "metadata": {},
   "outputs": [
    {
     "data": {
      "text/plain": [
       "[HumanMessage(content='how many aircraft are there in the sky currently?'),\n",
       " AIMessage(content='There are currently 4 aircraft in the sky. The aircraft IDs are: KL101, KL102, KL103, and BBB999.'),\n",
       " AIMessage(content='KL102\\nAircraft ids: [\\'KL101\\', \\'KL102\\', \\'KL103\\', \\'BBB999\\']\\nInfo on KL101 B74F index = 0\\nPos: N49\\'04\\'7.0\"  E006\\'00\\'2.0\"\\nHdg: 180   Trk: 180\\nAlt: 25000 ft  V/S: 0 fpm\\nCAS/TAS/GS: 340/485/485 kts   M: 0.805\\n\\nInfo on KL102 B74F index = 1\\nPos: N49\\'21\\'14.0\"  E004\\'21\\'9.0\"\\nHdg: 210   Trk: 210\\nAlt: 25000 ft  V/S: 0 fpm\\nCAS/TAS/GS: 340/485/485 kts   M: 0.805\\n\\nInfo on KL103 B74F index = 2\\nPos: N50\\'06\\'37.0\"  E003\\'08\\'47.0\"\\nHdg: 239   Trk: 239\\nAlt: 25000 ft  V/S: 0 fpm\\nCAS/TAS/GS: 340/485/485 kts   M: 0.805\\n\\nInfo on BBB999 A320 index = 3\\nPos: S14\\'26\\'56.0\"  W013\\'45\\'17.0\"\\nHdg: 048   Trk: 048\\nAlt: 15000 ft  V/S: 0 fpm\\nCAS/TAS/GS: 150/188/188 kts   M: 0.300\\n\\n'),\n",
       " HumanMessage(content='and which aircraft has the lowest altitude?'),\n",
       " AIMessage(content='The aircraft with the lowest altitude is BBB999. It is currently at an altitude of 15000 ft.'),\n",
       " AIMessage(content='')]"
      ]
     },
     "execution_count": 123,
     "metadata": {},
     "output_type": "execute_result"
    }
   ],
   "source": [
    "chat_history"
   ]
  },
  {
   "cell_type": "code",
   "execution_count": 125,
   "metadata": {},
   "outputs": [
    {
     "name": "stdout",
     "output_type": "stream",
     "text": [
      "\n",
      "\n",
      "\u001b[1m> Entering new AgentExecutor chain...\u001b[0m\n"
     ]
    },
    {
     "name": "stdout",
     "output_type": "stream",
     "text": [
      "\u001b[32;1m\u001b[1;3mThe aircraft ID with the lowest altitude is BBB999.\u001b[0m\n",
      "\n",
      "\u001b[1m> Finished chain.\u001b[0m\n"
     ]
    }
   ],
   "source": [
    "input3 = \"What is the aircraft id with the lowest altitude?\"\n",
    "result3 = agent_executor.invoke({\"input\": input3,\n",
    "                                 \"chat_history\": chat_history})"
   ]
  },
  {
   "cell_type": "code",
   "execution_count": 126,
   "metadata": {},
   "outputs": [
    {
     "name": "stdout",
     "output_type": "stream",
     "text": [
      "\n",
      "\n",
      "\u001b[1m> Entering new AgentExecutor chain...\u001b[0m\n",
      "\u001b[32;1m\u001b[1;3m\n",
      "Invoking: `get_all_aircraft_info` with `{'command': 'GETACIDS'}`\n",
      "\n",
      "\n",
      "\u001b[0m\u001b[36;1m\u001b[1;3m\u001b[0m\u001b[32;1m\u001b[1;3mThe altitude of aircraft BBB999 is 15000 ft.\u001b[0m\n",
      "\n",
      "\u001b[1m> Finished chain.\u001b[0m\n"
     ]
    }
   ],
   "source": [
    "input4 = \"What is the alititude of BBB999?\"\n",
    "result4 = agent_executor.invoke({\"input\": input4,\n",
    "                                 \"chat_history\": chat_history})"
   ]
  },
  {
   "cell_type": "code",
   "execution_count": 128,
   "metadata": {},
   "outputs": [
    {
     "data": {
      "text/plain": [
       "''"
      ]
     },
     "execution_count": 128,
     "metadata": {},
     "output_type": "execute_result"
    }
   ],
   "source": [
    "result4['intermediate_steps'][0][1]"
   ]
  }
 ],
 "metadata": {
  "kernelspec": {
   "display_name": "venv",
   "language": "python",
   "name": "python3"
  },
  "language_info": {
   "codemirror_mode": {
    "name": "ipython",
    "version": 3
   },
   "file_extension": ".py",
   "mimetype": "text/x-python",
   "name": "python",
   "nbconvert_exporter": "python",
   "pygments_lexer": "ipython3",
   "version": "3.9.6"
  }
 },
 "nbformat": 4,
 "nbformat_minor": 2
}
