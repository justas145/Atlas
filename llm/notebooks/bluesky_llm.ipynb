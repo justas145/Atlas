{
 "cells": [
  {
   "cell_type": "code",
   "execution_count": 1,
   "metadata": {},
   "outputs": [
    {
     "name": "stdout",
     "output_type": "stream",
     "text": [
      "Using Python-based geo functions\n"
     ]
    },
    {
     "name": "stderr",
     "output_type": "stream",
     "text": [
      "c:\\Users\\justa\\OneDrive\\Desktop\\Developer\\Thesis_ATM_with_LLM\\venv\\lib\\site-packages\\tqdm\\auto.py:21: TqdmWarning: IProgress not found. Please update jupyter and ipywidgets. See https://ipywidgets.readthedocs.io/en/stable/user_install.html\n",
      "  from .autonotebook import tqdm as notebook_tqdm\n"
     ]
    }
   ],
   "source": [
    "from bluesky.network.client import Client\n",
    "import os\n",
    "from bluesky.network.client import Client\n",
    "import google.generativeai as genai\n",
    "from dotenv import load_dotenv, find_dotenv\n",
    "import sys\n",
    "from contextlib import contextmanager\n",
    "from io import StringIO\n",
    "from openai import OpenAI\n"
   ]
  },
  {
   "cell_type": "code",
   "execution_count": 2,
   "metadata": {},
   "outputs": [],
   "source": [
    "load_dotenv(find_dotenv())\n",
    "# GOOGLE_API_KEY = os.environ.get('GEMINI_API_KEY')\n",
    "# genai.configure(api_key=GOOGLE_API_KEY)\n",
    "# model = genai.GenerativeModel('gemini-pro')\n",
    "# generation_config = genai.GenerationConfig(\n",
    "#     temperature=0.9,\n",
    "#     candidate_count=1\n",
    "# )\n",
    "# response = model.generate_content(\n",
    "#     prompt, generation_config=generation_config)\n",
    "# txt_answer = response.text\n",
    "\n",
    "gpt35 = OpenAI(api_key=os.environ.get('OPENAI_API_KEY'))"
   ]
  },
  {
   "cell_type": "code",
   "execution_count": 3,
   "metadata": {},
   "outputs": [],
   "source": [
    "\n",
    "\n",
    "\n",
    "\n",
    "@contextmanager\n",
    "def capture_stdout():\n",
    "    new_stdout = StringIO()\n",
    "    old_stdout = sys.stdout\n",
    "    sys.stdout = new_stdout\n",
    "    try:\n",
    "        yield new_stdout\n",
    "    finally:\n",
    "        sys.stdout = old_stdout\n",
    "\n",
    "\n",
    "def update_until_complete(client):\n",
    "    complete_output = \"\"\n",
    "    while True:\n",
    "        with capture_stdout() as captured:\n",
    "            client.update()\n",
    "        new_output = captured.getvalue()\n",
    "        if not new_output.strip():\n",
    "            # No more new output, break the loop\n",
    "            break\n",
    "        complete_output += new_output\n",
    "    return complete_output"
   ]
  },
  {
   "cell_type": "code",
   "execution_count": 4,
   "metadata": {},
   "outputs": [],
   "source": [
    "# a function to get the response from the model and return it. Input is the prompt\n",
    "# def get_response(prompt):\n",
    "#     response = model.generate_content(\n",
    "#         prompt, generation_config=generation_config)\n",
    "#     txt_answer = response.text\n",
    "#     return txt_answer\n",
    "\n",
    "# a function to get the response from the model and return it. Input is the prompt. model openai gpt\n",
    "\n",
    "# completion = gpt35.chat.completions.create(\n",
    "#     model=\"gpt-3.5-turbo-0613\",\n",
    "#     messages=[\n",
    "#         {\"role\": \"system\", \"content\": \"You are a helpful assistant.\"},\n",
    "#         {\"role\": \"user\", \"content\": \"Hello!\"}\n",
    "#     ]\n",
    "# )\n",
    "\n",
    "# print(completion.choices[0].message.content)\n",
    "\n",
    "def get_response(prompt):\n",
    "    completion = gpt35.chat.completions.create(\n",
    "        model=\"gpt-3.5-turbo-0613\",\n",
    "        messages=[\n",
    "            {\"role\": \"system\", \"content\": \"You are a helpful assistant.\"},\n",
    "            {\"role\": \"user\", \"content\": prompt}\n",
    "        ]\n",
    "    )\n",
    "    return completion.choices[0].message.content\n",
    "\n",
    "\n"
   ]
  },
  {
   "cell_type": "code",
   "execution_count": 5,
   "metadata": {},
   "outputs": [
    {
     "name": "stdout",
     "output_type": "stream",
     "text": [
      "Client b'\\x00\\r*\\xb3g' connected to host b'\\x00m@\\xeb\\xb9'\n",
      "Client active node changed.\n"
     ]
    }
   ],
   "source": [
    "client = Client()\n",
    "client.connect(\"127.0.0.1\", 11000, 11001)\n",
    "client.update()"
   ]
  },
  {
   "cell_type": "code",
   "execution_count": 6,
   "metadata": {},
   "outputs": [],
   "source": [
    "client.update()"
   ]
  },
  {
   "cell_type": "code",
   "execution_count": 33,
   "metadata": {},
   "outputs": [],
   "source": [
    "# command = 'CRE BBB999 A320 -15.101549,-14.504519 48 FL150 150'\n",
    "command = 'CRE BBB999 A320 -15.101549,-14.504519 48 FL150 150'\n",
    "command = 'GETACIDS'\n",
    "client.send_event(b'STACK', command)"
   ]
  },
  {
   "cell_type": "code",
   "execution_count": 37,
   "metadata": {},
   "outputs": [
    {
     "name": "stdout",
     "output_type": "stream",
     "text": [
      "All captured output:\n",
      " \n",
      "-------------------\n"
     ]
    }
   ],
   "source": [
    "sim_output = update_until_complete(client)\n",
    "print(\"All captured output:\\n\", sim_output)\n",
    "print('-------------------')"
   ]
  },
  {
   "cell_type": "code",
   "execution_count": 35,
   "metadata": {},
   "outputs": [],
   "source": [
    "from langchain_openai import ChatOpenAI\n",
    "\n",
    "llm = ChatOpenAI(model=\"gpt-3.5-turbo\", temperature=0)"
   ]
  },
  {
   "cell_type": "code",
   "execution_count": 36,
   "metadata": {},
   "outputs": [],
   "source": [
    "from langchain.agents import tool\n",
    "\n",
    "@tool\n",
    "def get_all_aircraft_info(command: str) -> str:\n",
    "    \"\"\"Returns each aircraft information. Use command GETACIDS to get all aircrafts.\"\"\"\n",
    "    client.send_event(b'STACK', command)\n",
    "    sim_output = update_until_complete(client)\n",
    "    return sim_output\n"
   ]
  },
  {
   "cell_type": "code",
   "execution_count": 38,
   "metadata": {},
   "outputs": [],
   "source": [
    "tools = [get_all_aircraft_info]"
   ]
  },
  {
   "cell_type": "code",
   "execution_count": 39,
   "metadata": {},
   "outputs": [],
   "source": [
    "from langchain_core.prompts import ChatPromptTemplate, MessagesPlaceholder\n",
    "\n",
    "prompt = ChatPromptTemplate.from_messages(\n",
    "    [\n",
    "        (\n",
    "            \"system\",\n",
    "            \"You are very powerful assistant, that can also use tools to answer questions\",\n",
    "        ),\n",
    "        (\"user\", \"{input}\"),\n",
    "        MessagesPlaceholder(variable_name=\"agent_scratchpad\"),\n",
    "    ]\n",
    ")"
   ]
  },
  {
   "cell_type": "code",
   "execution_count": 40,
   "metadata": {},
   "outputs": [],
   "source": [
    "llm_with_tools = llm.bind_tools(tools)"
   ]
  },
  {
   "cell_type": "code",
   "execution_count": 41,
   "metadata": {},
   "outputs": [],
   "source": [
    "from langchain.agents.format_scratchpad.openai_tools import (\n",
    "    format_to_openai_tool_messages,\n",
    ")\n",
    "from langchain.agents.output_parsers.openai_tools import OpenAIToolsAgentOutputParser\n",
    "\n",
    "agent = (\n",
    "    {\n",
    "        \"input\": lambda x: x[\"input\"],\n",
    "        \"agent_scratchpad\": lambda x: format_to_openai_tool_messages(\n",
    "            x[\"intermediate_steps\"]\n",
    "        ),\n",
    "    }\n",
    "    | prompt\n",
    "    | llm_with_tools\n",
    "    | OpenAIToolsAgentOutputParser()\n",
    ")"
   ]
  },
  {
   "cell_type": "code",
   "execution_count": 42,
   "metadata": {},
   "outputs": [],
   "source": [
    "from langchain.agents import AgentExecutor\n",
    "\n",
    "agent_executor = AgentExecutor(agent=agent, tools=tools, verbose=True)"
   ]
  },
  {
   "cell_type": "code",
   "execution_count": 45,
   "metadata": {},
   "outputs": [
    {
     "name": "stdout",
     "output_type": "stream",
     "text": [
      "\n",
      "\n",
      "\u001b[1m> Entering new AgentExecutor chain...\u001b[0m\n",
      "\u001b[32;1m\u001b[1;3m\n",
      "Invoking: `get_all_aircraft_info` with `{'command': 'GETACIDS'}`\n",
      "\n",
      "\n",
      "\u001b[0m\u001b[36;1m\u001b[1;3mKL102\n",
      "Aircraft ids: ['KL101', 'KL102', 'KL103', 'BBB999']\n",
      "Info on KL101 B74F index = 0\n",
      "Pos: N51'15'45.0\"  E006'00'0.0\"\n",
      "Hdg: 180   Trk: 180\n",
      "Alt: 25000 ft  V/S: 0 fpm\n",
      "CAS/TAS/GS: 340/485/485 kts   M: 0.805\n",
      "LNAV to KL101001\n",
      "\n",
      "Info on KL102 B74F index = 1\n",
      "Pos: N51'15'15.0\"  E006'04'11.0\"\n",
      "Hdg: 210   Trk: 210\n",
      "Alt: 25000 ft  V/S: 0 fpm\n",
      "CAS/TAS/GS: 340/485/485 kts   M: 0.805\n",
      "LNAV to KL102001\n",
      "\n",
      "Info on KL103 B74F index = 2\n",
      "Pos: N51'13'22.0\"  E006'07'49.0\"\n",
      "Hdg: 240   Trk: 240\n",
      "Alt: 25000 ft  V/S: 0 fpm\n",
      "CAS/TAS/GS: 340/485/485 kts   M: 0.805\n",
      "LNAV to KL103001\n",
      "\n",
      "Info on BBB999 A320 index = 3\n",
      "Pos: S15'01'8.0\"  W014'24'34.0\"\n",
      "Hdg: 048   Trk: 048\n",
      "Alt: 15000 ft  V/S: 0 fpm\n",
      "CAS/TAS/GS: 150/188/188 kts   M: 0.300\n",
      "\n",
      "\u001b[0m\u001b[32;1m\u001b[1;3mThe aircraft with the lowest altitude is BBB999 (A320) at 15000 ft.\u001b[0m\n",
      "\n",
      "\u001b[1m> Finished chain.\u001b[0m\n"
     ]
    }
   ],
   "source": [
    "out_lst = list(agent_executor.stream(\n",
    "    {\"input\": \"Which aircraft has the lowest altitude?\"}))"
   ]
  },
  {
   "cell_type": "code",
   "execution_count": 47,
   "metadata": {},
   "outputs": [
    {
     "name": "stdout",
     "output_type": "stream",
     "text": [
      "\n",
      "\n",
      "\u001b[1m> Entering new AgentExecutor chain...\u001b[0m\n",
      "\u001b[32;1m\u001b[1;3m\n",
      "Invoking: `get_all_aircraft_info` with `{'command': 'GETACIDS'}`\n",
      "\n",
      "\n",
      "\u001b[0m\u001b[36;1m\u001b[1;3mKL102\n",
      "Aircraft ids: ['KL101', 'KL102', 'KL103', 'BBB999']\n",
      "Info on KL101 B74F index = 0\n",
      "Pos: N51'10'51.0\"  E006'00'0.0\"\n",
      "Hdg: 180   Trk: 180\n",
      "Alt: 25000 ft  V/S: 0 fpm\n",
      "CAS/TAS/GS: 340/485/485 kts   M: 0.805\n",
      "LNAV to KL101001\n",
      "\n",
      "Info on KL102 B74F index = 1\n",
      "Pos: N51'11'1.0\"  E006'00'13.0\"\n",
      "Hdg: 210   Trk: 210\n",
      "Alt: 25000 ft  V/S: 0 fpm\n",
      "CAS/TAS/GS: 340/485/485 kts   M: 0.805\n",
      "LNAV to KL102001\n",
      "\n",
      "Info on KL103 B74F index = 2\n",
      "Pos: N51'10'56.0\"  E006'01'2.0\"\n",
      "Hdg: 240   Trk: 240\n",
      "Alt: 25000 ft  V/S: 0 fpm\n",
      "CAS/TAS/GS: 340/485/485 kts   M: 0.805\n",
      "LNAV to KL103001\n",
      "\n",
      "Info on BBB999 A320 index = 3\n",
      "Pos: S14'59'51.0\"  W014'23'6.0\"\n",
      "Hdg: 048   Trk: 048\n",
      "Alt: 15000 ft  V/S: 0 fpm\n",
      "CAS/TAS/GS: 150/188/188 kts   M: 0.300\n",
      "\n",
      "\u001b[0m\u001b[32;1m\u001b[1;3mThe position of aircraft KL101 is N51'10'51.0\" E006'00'0.0\". It is flying at an altitude of 25000 ft with a heading and track of 180 degrees. The speed indicators are as follows: CAS 340 kts, TAS 485 kts, GS 485 kts, and Mach 0.805.\u001b[0m\n",
      "\n",
      "\u001b[1m> Finished chain.\u001b[0m\n"
     ]
    },
    {
     "data": {
      "text/plain": [
       "[{'actions': [OpenAIToolAgentAction(tool='get_all_aircraft_info', tool_input={'command': 'GETACIDS'}, log=\"\\nInvoking: `get_all_aircraft_info` with `{'command': 'GETACIDS'}`\\n\\n\\n\", message_log=[AIMessage(content='', additional_kwargs={'tool_calls': [{'id': 'call_gROnBM70gLRS0MoF7zc6Yri5', 'function': {'arguments': '{\"command\":\"GETACIDS\"}', 'name': 'get_all_aircraft_info'}, 'type': 'function'}]})], tool_call_id='call_gROnBM70gLRS0MoF7zc6Yri5')],\n",
       "  'messages': [AIMessage(content='', additional_kwargs={'tool_calls': [{'id': 'call_gROnBM70gLRS0MoF7zc6Yri5', 'function': {'arguments': '{\"command\":\"GETACIDS\"}', 'name': 'get_all_aircraft_info'}, 'type': 'function'}]})]},\n",
       " {'steps': [AgentStep(action=OpenAIToolAgentAction(tool='get_all_aircraft_info', tool_input={'command': 'GETACIDS'}, log=\"\\nInvoking: `get_all_aircraft_info` with `{'command': 'GETACIDS'}`\\n\\n\\n\", message_log=[AIMessage(content='', additional_kwargs={'tool_calls': [{'id': 'call_gROnBM70gLRS0MoF7zc6Yri5', 'function': {'arguments': '{\"command\":\"GETACIDS\"}', 'name': 'get_all_aircraft_info'}, 'type': 'function'}]})], tool_call_id='call_gROnBM70gLRS0MoF7zc6Yri5'), observation='KL102\\nAircraft ids: [\\'KL101\\', \\'KL102\\', \\'KL103\\', \\'BBB999\\']\\nInfo on KL101 B74F index = 0\\nPos: N51\\'10\\'51.0\"  E006\\'00\\'0.0\"\\nHdg: 180   Trk: 180\\nAlt: 25000 ft  V/S: 0 fpm\\nCAS/TAS/GS: 340/485/485 kts   M: 0.805\\nLNAV to KL101001\\n\\nInfo on KL102 B74F index = 1\\nPos: N51\\'11\\'1.0\"  E006\\'00\\'13.0\"\\nHdg: 210   Trk: 210\\nAlt: 25000 ft  V/S: 0 fpm\\nCAS/TAS/GS: 340/485/485 kts   M: 0.805\\nLNAV to KL102001\\n\\nInfo on KL103 B74F index = 2\\nPos: N51\\'10\\'56.0\"  E006\\'01\\'2.0\"\\nHdg: 240   Trk: 240\\nAlt: 25000 ft  V/S: 0 fpm\\nCAS/TAS/GS: 340/485/485 kts   M: 0.805\\nLNAV to KL103001\\n\\nInfo on BBB999 A320 index = 3\\nPos: S14\\'59\\'51.0\"  W014\\'23\\'6.0\"\\nHdg: 048   Trk: 048\\nAlt: 15000 ft  V/S: 0 fpm\\nCAS/TAS/GS: 150/188/188 kts   M: 0.300\\n\\n')],\n",
       "  'messages': [FunctionMessage(content='KL102\\nAircraft ids: [\\'KL101\\', \\'KL102\\', \\'KL103\\', \\'BBB999\\']\\nInfo on KL101 B74F index = 0\\nPos: N51\\'10\\'51.0\"  E006\\'00\\'0.0\"\\nHdg: 180   Trk: 180\\nAlt: 25000 ft  V/S: 0 fpm\\nCAS/TAS/GS: 340/485/485 kts   M: 0.805\\nLNAV to KL101001\\n\\nInfo on KL102 B74F index = 1\\nPos: N51\\'11\\'1.0\"  E006\\'00\\'13.0\"\\nHdg: 210   Trk: 210\\nAlt: 25000 ft  V/S: 0 fpm\\nCAS/TAS/GS: 340/485/485 kts   M: 0.805\\nLNAV to KL102001\\n\\nInfo on KL103 B74F index = 2\\nPos: N51\\'10\\'56.0\"  E006\\'01\\'2.0\"\\nHdg: 240   Trk: 240\\nAlt: 25000 ft  V/S: 0 fpm\\nCAS/TAS/GS: 340/485/485 kts   M: 0.805\\nLNAV to KL103001\\n\\nInfo on BBB999 A320 index = 3\\nPos: S14\\'59\\'51.0\"  W014\\'23\\'6.0\"\\nHdg: 048   Trk: 048\\nAlt: 15000 ft  V/S: 0 fpm\\nCAS/TAS/GS: 150/188/188 kts   M: 0.300\\n\\n', name='get_all_aircraft_info')]},\n",
       " {'output': 'The position of aircraft KL101 is N51\\'10\\'51.0\" E006\\'00\\'0.0\". It is flying at an altitude of 25000 ft with a heading and track of 180 degrees. The speed indicators are as follows: CAS 340 kts, TAS 485 kts, GS 485 kts, and Mach 0.805.',\n",
       "  'messages': [AIMessage(content='The position of aircraft KL101 is N51\\'10\\'51.0\" E006\\'00\\'0.0\". It is flying at an altitude of 25000 ft with a heading and track of 180 degrees. The speed indicators are as follows: CAS 340 kts, TAS 485 kts, GS 485 kts, and Mach 0.805.')]}]"
      ]
     },
     "execution_count": 47,
     "metadata": {},
     "output_type": "execute_result"
    }
   ],
   "source": [
    "list(agent_executor.stream(\n",
    "    {\"input\": \"So what is KL101 position?\"}))"
   ]
  },
  {
   "cell_type": "code",
   "execution_count": null,
   "metadata": {},
   "outputs": [],
   "source": [
    "# TODO\n",
    "# 1. connect to a memory block so it will be able to remember the previous commands and responses\n",
    "# 2. create a vector database with commands and their descriptions (just like voyager did). Input is a prompt, output is top 5 commands\n",
    "# 3. Make a system that makes the agent write its own commands and test out the commands\n",
    "\n"
   ]
  },
  {
   "cell_type": "code",
   "execution_count": 48,
   "metadata": {},
   "outputs": [],
   "source": [
    "from langchain.prompts import MessagesPlaceholder\n",
    "\n",
    "MEMORY_KEY = \"chat_history\"\n",
    "prompt = ChatPromptTemplate.from_messages(\n",
    "    [\n",
    "        (\n",
    "            \"system\",\n",
    "            \"You are very powerful assistant\",\n",
    "        ),\n",
    "        MessagesPlaceholder(variable_name=MEMORY_KEY),\n",
    "        (\"user\", \"{input}\"),\n",
    "        MessagesPlaceholder(variable_name=\"agent_scratchpad\"),\n",
    "    ]\n",
    ")"
   ]
  },
  {
   "cell_type": "code",
   "execution_count": 77,
   "metadata": {},
   "outputs": [],
   "source": [
    "from langchain_core.messages import AIMessage, HumanMessage, ToolMessage, SystemMessage\n",
    "\n",
    "chat_history = []"
   ]
  },
  {
   "cell_type": "code",
   "execution_count": 72,
   "metadata": {},
   "outputs": [],
   "source": [
    "agent = (\n",
    "    {\n",
    "        \"input\": lambda x: x[\"input\"],\n",
    "        \"agent_scratchpad\": lambda x: format_to_openai_tool_messages(\n",
    "            x[\"intermediate_steps\"]\n",
    "        ),\n",
    "        \"chat_history\": lambda x: x[\"chat_history\"],\n",
    "    }\n",
    "    | prompt\n",
    "    | llm_with_tools\n",
    "    | OpenAIToolsAgentOutputParser()\n",
    ")\n",
    "agent_executor = AgentExecutor(agent=agent, tools=tools, verbose=True, return_intermediate_steps=True)"
   ]
  },
  {
   "cell_type": "code",
   "execution_count": 111,
   "metadata": {},
   "outputs": [
    {
     "name": "stdout",
     "output_type": "stream",
     "text": [
      "\n",
      "\n",
      "\u001b[1m> Entering new AgentExecutor chain...\u001b[0m\n",
      "\u001b[32;1m\u001b[1;3m\n",
      "Invoking: `get_all_aircraft_info` with `{'command': 'GETACIDS'}`\n",
      "\n",
      "\n",
      "\u001b[0m\u001b[36;1m\u001b[1;3mKL102\n",
      "Aircraft ids: ['KL101', 'KL102', 'KL103', 'BBB999']\n",
      "Info on KL101 B74F index = 0\n",
      "Pos: N49'04'7.0\"  E006'00'2.0\"\n",
      "Hdg: 180   Trk: 180\n",
      "Alt: 25000 ft  V/S: 0 fpm\n",
      "CAS/TAS/GS: 340/485/485 kts   M: 0.805\n",
      "\n",
      "Info on KL102 B74F index = 1\n",
      "Pos: N49'21'14.0\"  E004'21'9.0\"\n",
      "Hdg: 210   Trk: 210\n",
      "Alt: 25000 ft  V/S: 0 fpm\n",
      "CAS/TAS/GS: 340/485/485 kts   M: 0.805\n",
      "\n",
      "Info on KL103 B74F index = 2\n",
      "Pos: N50'06'37.0\"  E003'08'47.0\"\n",
      "Hdg: 239   Trk: 239\n",
      "Alt: 25000 ft  V/S: 0 fpm\n",
      "CAS/TAS/GS: 340/485/485 kts   M: 0.805\n",
      "\n",
      "Info on BBB999 A320 index = 3\n",
      "Pos: S14'26'56.0\"  W013'45'17.0\"\n",
      "Hdg: 048   Trk: 048\n",
      "Alt: 15000 ft  V/S: 0 fpm\n",
      "CAS/TAS/GS: 150/188/188 kts   M: 0.300\n",
      "\n",
      "\u001b[0m\u001b[32;1m\u001b[1;3mThere are currently 4 aircraft in the sky. The aircraft IDs are: KL101, KL102, KL103, and BBB999.\u001b[0m\n",
      "\n",
      "\u001b[1m> Finished chain.\u001b[0m\n"
     ]
    }
   ],
   "source": [
    "chat_history = []\n",
    "input1 = \"how many aircraft are there in the sky currently?\"\n",
    "\n",
    "result1 = agent_executor.invoke(\n",
    "\n",
    "    {\"input\": input1, \"chat_history\": chat_history})\n",
    "\n",
    "# chat history should have human message, output result from sim, and output result from openai"
   ]
  },
  {
   "cell_type": "code",
   "execution_count": 112,
   "metadata": {},
   "outputs": [],
   "source": [
    "intermediate_steps1 = result1['intermediate_steps'][0][1]\n",
    "\n",
    "chat_history.extend(\n",
    "    [\n",
    "\n",
    "        HumanMessage(content=input1),\n",
    "        AIMessage(content=result1[\"output\"]),\n",
    "        AIMessage(content=intermediate_steps1)\n",
    "    ]\n",
    "\n",
    ")\n",
    "# order here matters for some reason. If the order is changed, for the next question the tool will be invoke even though it is not needed"
   ]
  },
  {
   "cell_type": "code",
   "execution_count": 113,
   "metadata": {},
   "outputs": [
    {
     "data": {
      "text/plain": [
       "[HumanMessage(content='how many aircraft are there in the sky currently?'),\n",
       " AIMessage(content='There are currently 4 aircraft in the sky. The aircraft IDs are: KL101, KL102, KL103, and BBB999.'),\n",
       " AIMessage(content='KL102\\nAircraft ids: [\\'KL101\\', \\'KL102\\', \\'KL103\\', \\'BBB999\\']\\nInfo on KL101 B74F index = 0\\nPos: N49\\'04\\'7.0\"  E006\\'00\\'2.0\"\\nHdg: 180   Trk: 180\\nAlt: 25000 ft  V/S: 0 fpm\\nCAS/TAS/GS: 340/485/485 kts   M: 0.805\\n\\nInfo on KL102 B74F index = 1\\nPos: N49\\'21\\'14.0\"  E004\\'21\\'9.0\"\\nHdg: 210   Trk: 210\\nAlt: 25000 ft  V/S: 0 fpm\\nCAS/TAS/GS: 340/485/485 kts   M: 0.805\\n\\nInfo on KL103 B74F index = 2\\nPos: N50\\'06\\'37.0\"  E003\\'08\\'47.0\"\\nHdg: 239   Trk: 239\\nAlt: 25000 ft  V/S: 0 fpm\\nCAS/TAS/GS: 340/485/485 kts   M: 0.805\\n\\nInfo on BBB999 A320 index = 3\\nPos: S14\\'26\\'56.0\"  W013\\'45\\'17.0\"\\nHdg: 048   Trk: 048\\nAlt: 15000 ft  V/S: 0 fpm\\nCAS/TAS/GS: 150/188/188 kts   M: 0.300\\n\\n')]"
      ]
     },
     "execution_count": 113,
     "metadata": {},
     "output_type": "execute_result"
    }
   ],
   "source": [
    "chat_history"
   ]
  },
  {
   "cell_type": "code",
   "execution_count": 118,
   "metadata": {},
   "outputs": [
    {
     "name": "stdout",
     "output_type": "stream",
     "text": [
      "\n",
      "\n",
      "\u001b[1m> Entering new AgentExecutor chain...\u001b[0m\n"
     ]
    },
    {
     "name": "stdout",
     "output_type": "stream",
     "text": [
      "\u001b[32;1m\u001b[1;3mThe aircraft with the lowest altitude is BBB999. It is currently at an altitude of 15000 ft.\u001b[0m\n",
      "\n",
      "\u001b[1m> Finished chain.\u001b[0m\n"
     ]
    }
   ],
   "source": [
    "input2 = \"and which aircraft has the lowest altitude?\"\n",
    "result2 = agent_executor.invoke({\"input\": input2,\n",
    "                      \"chat_history\": chat_history})"
   ]
  },
  {
   "cell_type": "code",
   "execution_count": 121,
   "metadata": {},
   "outputs": [],
   "source": [
    "try:\n",
    "    intermediate_steps2 = result2['intermediate_steps'][0][1]\n",
    "except IndexError:\n",
    "    intermediate_steps2 = ''\n",
    "\n"
   ]
  },
  {
   "cell_type": "code",
   "execution_count": 122,
   "metadata": {},
   "outputs": [],
   "source": [
    "\n",
    "chat_history.extend(\n",
    "    [\n",
    "\n",
    "        HumanMessage(content=input2),\n",
    "        AIMessage(content=result2[\"output\"]),\n",
    "        AIMessage(content=intermediate_steps2)\n",
    "    ]\n",
    "\n",
    ")\n",
    "# order here matters for some reason. If the order is changed, for the next question the tool will be invoke even though it is not needed"
   ]
  },
  {
   "cell_type": "code",
   "execution_count": 123,
   "metadata": {},
   "outputs": [
    {
     "data": {
      "text/plain": [
       "[HumanMessage(content='how many aircraft are there in the sky currently?'),\n",
       " AIMessage(content='There are currently 4 aircraft in the sky. The aircraft IDs are: KL101, KL102, KL103, and BBB999.'),\n",
       " AIMessage(content='KL102\\nAircraft ids: [\\'KL101\\', \\'KL102\\', \\'KL103\\', \\'BBB999\\']\\nInfo on KL101 B74F index = 0\\nPos: N49\\'04\\'7.0\"  E006\\'00\\'2.0\"\\nHdg: 180   Trk: 180\\nAlt: 25000 ft  V/S: 0 fpm\\nCAS/TAS/GS: 340/485/485 kts   M: 0.805\\n\\nInfo on KL102 B74F index = 1\\nPos: N49\\'21\\'14.0\"  E004\\'21\\'9.0\"\\nHdg: 210   Trk: 210\\nAlt: 25000 ft  V/S: 0 fpm\\nCAS/TAS/GS: 340/485/485 kts   M: 0.805\\n\\nInfo on KL103 B74F index = 2\\nPos: N50\\'06\\'37.0\"  E003\\'08\\'47.0\"\\nHdg: 239   Trk: 239\\nAlt: 25000 ft  V/S: 0 fpm\\nCAS/TAS/GS: 340/485/485 kts   M: 0.805\\n\\nInfo on BBB999 A320 index = 3\\nPos: S14\\'26\\'56.0\"  W013\\'45\\'17.0\"\\nHdg: 048   Trk: 048\\nAlt: 15000 ft  V/S: 0 fpm\\nCAS/TAS/GS: 150/188/188 kts   M: 0.300\\n\\n'),\n",
       " HumanMessage(content='and which aircraft has the lowest altitude?'),\n",
       " AIMessage(content='The aircraft with the lowest altitude is BBB999. It is currently at an altitude of 15000 ft.'),\n",
       " AIMessage(content='')]"
      ]
     },
     "execution_count": 123,
     "metadata": {},
     "output_type": "execute_result"
    }
   ],
   "source": [
    "chat_history"
   ]
  },
  {
   "cell_type": "code",
   "execution_count": 125,
   "metadata": {},
   "outputs": [
    {
     "name": "stdout",
     "output_type": "stream",
     "text": [
      "\n",
      "\n",
      "\u001b[1m> Entering new AgentExecutor chain...\u001b[0m\n"
     ]
    },
    {
     "name": "stdout",
     "output_type": "stream",
     "text": [
      "\u001b[32;1m\u001b[1;3mThe aircraft ID with the lowest altitude is BBB999.\u001b[0m\n",
      "\n",
      "\u001b[1m> Finished chain.\u001b[0m\n"
     ]
    }
   ],
   "source": [
    "input3 = \"What is the aircraft id with the lowest altitude?\"\n",
    "result3 = agent_executor.invoke({\"input\": input3,\n",
    "                                 \"chat_history\": chat_history})"
   ]
  },
  {
   "cell_type": "code",
   "execution_count": 126,
   "metadata": {},
   "outputs": [
    {
     "name": "stdout",
     "output_type": "stream",
     "text": [
      "\n",
      "\n",
      "\u001b[1m> Entering new AgentExecutor chain...\u001b[0m\n",
      "\u001b[32;1m\u001b[1;3m\n",
      "Invoking: `get_all_aircraft_info` with `{'command': 'GETACIDS'}`\n",
      "\n",
      "\n",
      "\u001b[0m\u001b[36;1m\u001b[1;3m\u001b[0m\u001b[32;1m\u001b[1;3mThe altitude of aircraft BBB999 is 15000 ft.\u001b[0m\n",
      "\n",
      "\u001b[1m> Finished chain.\u001b[0m\n"
     ]
    }
   ],
   "source": [
    "input4 = \"What is the alititude of BBB999?\"\n",
    "result4 = agent_executor.invoke({\"input\": input4,\n",
    "                                 \"chat_history\": chat_history})"
   ]
  },
  {
   "cell_type": "code",
   "execution_count": 128,
   "metadata": {},
   "outputs": [
    {
     "data": {
      "text/plain": [
       "''"
      ]
     },
     "execution_count": 128,
     "metadata": {},
     "output_type": "execute_result"
    }
   ],
   "source": [
    "result4['intermediate_steps'][0][1]"
   ]
  }
 ],
 "metadata": {
  "kernelspec": {
   "display_name": "venv",
   "language": "python",
   "name": "python3"
  },
  "language_info": {
   "codemirror_mode": {
    "name": "ipython",
    "version": 3
   },
   "file_extension": ".py",
   "mimetype": "text/x-python",
   "name": "python",
   "nbconvert_exporter": "python",
   "pygments_lexer": "ipython3",
   "version": "3.9.6"
  }
 },
 "nbformat": 4,
 "nbformat_minor": 2
}
