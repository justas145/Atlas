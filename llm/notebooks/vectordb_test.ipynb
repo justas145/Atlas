{
 "cells": [
  {
   "cell_type": "code",
   "execution_count": null,
   "metadata": {},
   "outputs": [],
   "source": [
    "import chromadb\n",
    "import chromadb.utils.embedding_functions as embedding_functions\n",
    "from dotenv import load_dotenv, find_dotenv\n",
    "import os\n"
   ]
  },
  {
   "cell_type": "code",
   "execution_count": null,
   "metadata": {},
   "outputs": [],
   "source": [
    "load_dotenv(find_dotenv())"
   ]
  },
  {
   "cell_type": "code",
   "execution_count": null,
   "metadata": {},
   "outputs": [],
   "source": [
    "openai_api_key = os.getenv(\"OPENAI_API_KEY\")"
   ]
  },
  {
   "cell_type": "code",
   "execution_count": null,
   "metadata": {},
   "outputs": [],
   "source": [
    "base_path = os.getcwd()\n",
    "vectordb_path = os.path.join(base_path, \"..\", \"skills-library\", \"vectordb\")\n",
    "\n",
    "\n",
    "client = chromadb.PersistentClient(path=vectordb_path)"
   ]
  },
  {
   "cell_type": "code",
   "execution_count": null,
   "metadata": {},
   "outputs": [],
   "source": [
    "# returns a nanosecond heartbeat. Useful for making sure the client remains connected.\n",
    "client.heartbeat()\n"
   ]
  },
  {
   "cell_type": "code",
   "execution_count": null,
   "metadata": {},
   "outputs": [],
   "source": [
    "openai_ef = embedding_functions.OpenAIEmbeddingFunction(\n",
    "    api_key=openai_api_key,\n",
    "    model_name=\"text-embedding-3-large\"\n",
    ")"
   ]
  },
  {
   "cell_type": "code",
   "execution_count": null,
   "metadata": {},
   "outputs": [],
   "source": [
    "collections = client.list_collections()\n",
    "collections"
   ]
  },
  {
   "cell_type": "code",
   "execution_count": null,
   "metadata": {},
   "outputs": [],
   "source": [
    "# Get a collection object from an existing collection, by name. If it doesn't exist, create it.\n",
    "collection = client.get_or_create_collection(\n",
    "    name=\"default\", embedding_function=openai_ef, metadata={\"hnsw:space\": \"cosine\"})"
   ]
  },
  {
   "cell_type": "code",
   "execution_count": null,
   "metadata": {},
   "outputs": [],
   "source": [
    "collection.peek()"
   ]
  },
  {
   "cell_type": "code",
   "execution_count": null,
   "metadata": {},
   "outputs": [],
   "source": [
    "# step1: open all txt files  from specific folder\n",
    "# step2: collect ids_lst, which is a filename without extension\n",
    "# step3: collect documents_lst, which is a list of text content for each file\n",
    "# step4: add documents to the collection\n",
    "\n",
    "\n",
    "# Define the path to the directory containing the text files\n",
    "folder_path = os.path.join(base_path, \"..\", \"skills-library\", \"description\")\n",
    "\n",
    "# Initialize lists to hold file names without extensions and file contents\n",
    "ids_lst = []\n",
    "documents_lst = []\n",
    "metadatas_lst = []\n",
    "# Step 1: Open all txt files from specific folder\n",
    "for filename in os.listdir(folder_path):\n",
    "    # Check if the file is a text file\n",
    "    if filename.endswith('.txt'):\n",
    "        # Step 2: Collect ids_lst, which is a filename without extension\n",
    "        command = os.path.splitext(filename)[0]\n",
    "        ids_lst.append(command)\n",
    "        metadatas_lst.append({\"command\": command})\n",
    "        # Define the full path to the file\n",
    "        file_path = os.path.join(folder_path, filename)\n",
    "\n",
    "        # Step 3: Collect documents_lst, which is a list of text content for each file\n",
    "        with open(file_path, 'r', encoding='utf-8') as file:\n",
    "            documents_lst.append(file.read())\n",
    "\n",
    "# Now ids_lst contains all filenames without their extension\n",
    "# and documents_lst contains the corresponding file contents"
   ]
  },
  {
   "cell_type": "code",
   "execution_count": null,
   "metadata": {},
   "outputs": [],
   "source": [
    "collection.upsert(ids=ids_lst, documents=documents_lst, metadatas=metadatas_lst)"
   ]
  },
  {
   "cell_type": "code",
   "execution_count": null,
   "metadata": {},
   "outputs": [],
   "source": [
    "collection.get(include=[\"metadatas\"])['metadatas']"
   ]
  },
  {
   "cell_type": "code",
   "execution_count": null,
   "metadata": {},
   "outputs": [],
   "source": [
    "collection.get(ids=['ADDWPT', 'CR2E'])"
   ]
  },
  {
   "cell_type": "code",
   "execution_count": null,
   "metadata": {},
   "outputs": [],
   "source": [
    "collection.query(\n",
    "    query_texts=[\"Enable Conflict Detection and Resolution System\\n  Useful commands: ASAS ON, RESO ON\\n  - ASAS ON: Enable the conflict detection system.\\n  - RESO ON: Enable the conflict resolution system.\\n\\n-\",\n",
    "                 \n",
    "                 \"Step 2: Set the conflict detection method\\n  Useful commands: [CDMETHOD MODULE-NAME]\\n  Usage details: `CDMETHOD MVP` - This command sets the conflict detection method to the'Minimum Vectoring Profile' which is an example module name.\\n\\n-\", \n",
    "                 \"Set the conflict resolution method\\n  Useful commands: [RESO MODULE-NAME]\\n  Usage details: `RESO EBY` - This command sets the conflict resolution method to 'Enhanced Bounded Yaw,' which is an example module name.\\n\\n\"],\n",
    "    n_results=5,\n",
    "    #where={\"command\": \"ADDWPT\"}\n",
    ")"
   ]
  },
  {
   "cell_type": "code",
   "execution_count": null,
   "metadata": {},
   "outputs": [],
   "source": [
    "input = \"HDG, ALT, AT, ATALT, ATDIST, ATSPD, BANK, DELWPT, DEST, DIRECT, DIST, HDG, SPD, VS\"\n",
    "\n",
    "commands_lst = list(set([item.strip() for item in input.split(\",\")]))\n",
    "print(commands_lst)\n",
    "documents_lst = collection.get(ids=commands_lst)[\"documents\"]\n",
    "documents_str = \"\"\n",
    "for doc in documents_lst:\n",
    "    documents_str += doc + \"\\n\\n ############################## \\n\\n\"\n",
    "\n",
    "documents_str"
   ]
  }
 ],
 "metadata": {
  "kernelspec": {
   "display_name": "venv",
   "language": "python",
   "name": "python3"
  },
  "language_info": {
   "codemirror_mode": {
    "name": "ipython",
    "version": 3
   },
   "file_extension": ".py",
   "mimetype": "text/x-python",
   "name": "python",
   "nbconvert_exporter": "python",
   "pygments_lexer": "ipython3",
   "version": "3.9.6"
  }
 },
 "nbformat": 4,
 "nbformat_minor": 2
}
