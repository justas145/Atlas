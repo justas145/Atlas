{
 "cells": [
  {
   "cell_type": "code",
   "execution_count": null,
   "metadata": {},
   "outputs": [],
   "source": [
    "import chromadb\n",
    "import chromadb.utils.embedding_functions as embedding_functions\n",
    "from dotenv import load_dotenv, find_dotenv\n",
    "import os\n"
   ]
  },
  {
   "cell_type": "code",
   "execution_count": null,
   "metadata": {},
   "outputs": [],
   "source": [
    "load_dotenv(find_dotenv())"
   ]
  },
  {
   "cell_type": "code",
   "execution_count": null,
   "metadata": {},
   "outputs": [],
   "source": [
    "openai_api_key = os.getenv(\"OPENAI_API_KEY\")"
   ]
  },
  {
   "cell_type": "code",
   "execution_count": null,
   "metadata": {},
   "outputs": [],
   "source": [
    "base_path = os.getcwd()\n",
    "vectordb_path = os.path.join(base_path, \"..\", \"skills-library\", \"vectordb\")\n",
    "\n",
    "\n",
    "client = chromadb.PersistentClient(path=vectordb_path)"
   ]
  },
  {
   "cell_type": "code",
   "execution_count": null,
   "metadata": {},
   "outputs": [],
   "source": [
    "# returns a nanosecond heartbeat. Useful for making sure the client remains connected.\n",
    "client.heartbeat()\n"
   ]
  },
  {
   "cell_type": "code",
   "execution_count": null,
   "metadata": {},
   "outputs": [],
   "source": [
    "openai_ef = embedding_functions.OpenAIEmbeddingFunction(\n",
    "    api_key=openai_api_key,\n",
    "    model_name=\"text-embedding-3-large\"\n",
    ")"
   ]
  },
  {
   "cell_type": "code",
   "execution_count": null,
   "metadata": {},
   "outputs": [],
   "source": [
    "collections = client.list_collections()\n",
    "collections"
   ]
  },
  {
   "cell_type": "code",
   "execution_count": null,
   "metadata": {},
   "outputs": [],
   "source": [
    "# Get a collection object from an existing collection, by name. If it doesn't exist, create it.\n",
    "collection = client.get_or_create_collection(\n",
    "    name=\"skill_manuals\", embedding_function=openai_ef, metadata={\"hnsw:space\": \"cosine\"})"
   ]
  },
  {
   "cell_type": "code",
   "execution_count": null,
   "metadata": {},
   "outputs": [],
   "source": [
    "collection.peek()"
   ]
  },
  {
   "cell_type": "code",
   "execution_count": null,
   "metadata": {},
   "outputs": [],
   "source": [
    "where_full = {\n",
    "    \"$and\": [\n",
    "        {\"num_ac\": 2},\n",
    "        {\"conflict_formation\": 'head-on'},\n",
    "    ]\n",
    "}\n",
    "where_partial = {\"num_ac\": 2}\n",
    "\n",
    "query_results = collection.query(\n",
    "    query_texts=[\"KL204 - KL420\"], n_resu\n",
    ")\n",
    "\n",
    "query_results"
   ]
  },
  {
   "cell_type": "code",
   "execution_count": null,
   "metadata": {},
   "outputs": [],
   "source": [
    "client.delete_collection(\"skill_manuals\")\n"
   ]
  },
  {
   "cell_type": "code",
   "execution_count": null,
   "metadata": {},
   "outputs": [],
   "source": [
    "doc = collection.get(ids=[\"77a47588-26b9-4da9-be33-c6ec05b0fa50\"])\n",
    "doc"
   ]
  },
  {
   "cell_type": "code",
   "execution_count": null,
   "metadata": {},
   "outputs": [],
   "source": [
    "txt =\"\"\"\n",
    "Here is the transformed conflict report:\n",
    "\n",
    "**Conflict Report**\n",
    "\n",
    "**Number of Aircraft Involved:** 4 Boeing 747-400 (KL0001, KL0003, KL0005, KL0007)\n",
    "\n",
    "**Conflict Type:** Converging Conflict\n",
    "\n",
    "**Altitude:** All aircraft were initially at 20000 ft.\n",
    "\n",
    "**Heading:**\n",
    "\n",
    "* KL0001: 180°\n",
    "* KL0003: 270°\n",
    "* KL0005: 000°\n",
    "* KL0007: 090°\n",
    "\n",
    "**Conflict Formation:** Converging Formation\n",
    "\n",
    "Note: The conflict formation is determined based on the initial headings and positions of the aircraft, which indicate a converging conflict scenario.\n",
    "Here is the description of the effectiveness of each action taken to manage the aircraft conflict:\n",
    "\n",
    "Initially, decreasing the altitude of one aircraft effectively reduced its proximity to another, resolving part of the conflict. This action created some separation between the aircraft, reducing the number of conflict pairs.\n",
    "\n",
    "Subsequently, a heading adjustment for one of the remaining conflicting aircraft helped to further disperse the conflict, reducing the number of conflict pairs.\n",
    "\n",
    "However, a command that did not alter the heading of an aircraft proved ineffective, as it failed to change the conflict situation, and the number of conflict pairs remained the same.       \n",
    "\n",
    "A subsequent heading adjustment for another aircraft then successfully dispersed the remaining conflict, reducing the number of conflict pairs.\n",
    "\n",
    "Finally, decreasing the altitude of another aircraft effectively resolved the remaining conflict, as it created sufficient separation between the aircraft, eliminating all conflict pairs.   \n",
    "\n",
    "Overall, the actions that involved changes in altitude or heading adjustments were effective in resolving the conflict, as they created separation between the aircraft and dispersed the conflict.\n",
    "\"\"\"\n",
    "meta ={'num_ac': 4, 'conflict_formation': 'Converging Formation'}\n",
    "collection.add(documents=[txt], metadatas=[meta], ids=[\"conflict_report_2\"])"
   ]
  },
  {
   "cell_type": "code",
   "execution_count": null,
   "metadata": {},
   "outputs": [],
   "source": [
    "client.delete_collection(\"skill_manuals\")"
   ]
  },
  {
   "cell_type": "code",
   "execution_count": null,
   "metadata": {},
   "outputs": [],
   "source": [
    "def QueryConflicts(input: str, num_ac: int, conflict_formation: str):\n",
    "    \"\"\"Query for a similar conflict and its resolution in the database.\n",
    "\n",
    "    Parameters:\n",
    "    - input: str (1 sentence short description of the conflict)\n",
    "    - num_ac: int (number of aircraft in conflict)\n",
    "    - conflict_formation: str (formation of the conflict: Head-On Formation, T-Formation, Parallel Formation, Converging Formation)\n",
    "    Returns:\n",
    "    - document that is a similar conflict and its resolution in the database\n",
    "    \"\"\"\n",
    "    where = {\n",
    "        \"$and\": [\n",
    "            {\"num_ac\": num_ac},\n",
    "            {\"conflict_formation\": conflict_formation},\n",
    "        ]\n",
    "    }\n",
    "    try:\n",
    "        query_results = collection.query(query_texts=[input], n_results=1, where=where)\n",
    "        doc = query_results[\"documents\"][0][0]\n",
    "        if doc == \"\":\n",
    "            return \"No similar conflict found in the database.\"\n",
    "        else:\n",
    "            return doc\n",
    "    except:\n",
    "        return \"No similar conflict found in the database.\"\n",
    "\n",
    "print(QueryConflicts(\"Aircraft conflict with 4 aircraft\", num_ac=4, conflict_formation='Converging Formation'))"
   ]
  },
  {
   "cell_type": "code",
   "execution_count": null,
   "metadata": {},
   "outputs": [],
   "source": [
    "# step1: open all txt files  from specific folder\n",
    "# step2: collect ids_lst, which is a filename without extension\n",
    "# step3: collect documents_lst, which is a list of text content for each file\n",
    "# step4: add documents to the collection\n",
    "\n",
    "\n",
    "# Define the path to the directory containing the text files\n",
    "folder_path = os.path.join(base_path, \"..\", \"skills-library\", \"description\")\n",
    "\n",
    "# Initialize lists to hold file names without extensions and file contents\n",
    "ids_lst = []\n",
    "documents_lst = []\n",
    "metadatas_lst = []\n",
    "# Step 1: Open all txt files from specific folder\n",
    "for filename in os.listdir(folder_path):\n",
    "    # Check if the file is a text file\n",
    "    if filename.endswith('.txt'):\n",
    "        # Step 2: Collect ids_lst, which is a filename without extension\n",
    "        command = os.path.splitext(filename)[0]\n",
    "        ids_lst.append(command)\n",
    "        metadatas_lst.append({\"command\": command})\n",
    "        # Define the full path to the file\n",
    "        file_path = os.path.join(folder_path, filename)\n",
    "\n",
    "        # Step 3: Collect documents_lst, which is a list of text content for each file\n",
    "        with open(file_path, 'r', encoding='utf-8') as file:\n",
    "            documents_lst.append(file.read())\n",
    "\n",
    "# Now ids_lst contains all filenames without their extension\n",
    "# and documents_lst contains the corresponding file contents"
   ]
  },
  {
   "cell_type": "code",
   "execution_count": null,
   "metadata": {},
   "outputs": [],
   "source": [
    "collection.upsert(ids=ids_lst, documents=documents_lst, metadatas=metadatas_lst)"
   ]
  },
  {
   "cell_type": "code",
   "execution_count": null,
   "metadata": {},
   "outputs": [],
   "source": [
    "collection.get(include=[\"metadatas\"])['metadatas']"
   ]
  },
  {
   "cell_type": "code",
   "execution_count": null,
   "metadata": {},
   "outputs": [],
   "source": [
    "collection.get(ids=['ADDWPT', 'CR2E'])"
   ]
  },
  {
   "cell_type": "code",
   "execution_count": null,
   "metadata": {},
   "outputs": [],
   "source": [
    "collection.query(\n",
    "    query_texts=[\"Enable Conflict Detection and Resolution System\\n  Useful commands: ASAS ON, RESO ON\\n  - ASAS ON: Enable the conflict detection system.\\n  - RESO ON: Enable the conflict resolution system.\\n\\n-\",\n",
    "                 \n",
    "                 \"Step 2: Set the conflict detection method\\n  Useful commands: [CDMETHOD MODULE-NAME]\\n  Usage details: `CDMETHOD MVP` - This command sets the conflict detection method to the'Minimum Vectoring Profile' which is an example module name.\\n\\n-\", \n",
    "                 \"Set the conflict resolution method\\n  Useful commands: [RESO MODULE-NAME]\\n  Usage details: `RESO EBY` - This command sets the conflict resolution method to 'Enhanced Bounded Yaw,' which is an example module name.\\n\\n\"],\n",
    "    n_results=5,\n",
    "    #where={\"command\": \"ADDWPT\"}\n",
    ")"
   ]
  },
  {
   "cell_type": "code",
   "execution_count": null,
   "metadata": {},
   "outputs": [],
   "source": [
    "input = \"HDG, ALT, AT, ATALT, ATDIST, ATSPD, BANK, DELWPT, DEST, DIRECT, DIST, HDG, SPD, VS\"\n",
    "\n",
    "commands_lst = list(set([item.strip() for item in input.split(\",\")]))\n",
    "print(commands_lst)\n",
    "documents_lst = collection.get(ids=commands_lst)[\"documents\"]\n",
    "documents_str = \"\"\n",
    "for doc in documents_lst:\n",
    "    documents_str += doc + \"\\n\\n ############################## \\n\\n\"\n",
    "\n",
    "documents_str"
   ]
  }
 ],
 "metadata": {
  "kernelspec": {
   "display_name": "venv",
   "language": "python",
   "name": "python3"
  },
  "language_info": {
   "codemirror_mode": {
    "name": "ipython",
    "version": 3
   },
   "file_extension": ".py",
   "mimetype": "text/x-python",
   "name": "python",
   "nbconvert_exporter": "python",
   "pygments_lexer": "ipython3",
   "version": "3.9.6"
  }
 },
 "nbformat": 4,
 "nbformat_minor": 2
}
